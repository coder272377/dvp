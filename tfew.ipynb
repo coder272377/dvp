{
  "cells": [
    {
      "cell_type": "markdown",
      "metadata": {
        "id": "view-in-github",
        "colab_type": "text"
      },
      "source": [
        "<a href=\"https://colab.research.google.com/github/coder272377/dvp/blob/develop/tfew.ipynb\" target=\"_parent\"><img src=\"https://colab.research.google.com/assets/colab-badge.svg\" alt=\"Open In Colab\"/></a>"
      ]
    },
    {
      "cell_type": "markdown",
      "source": [
        "# Top Five Equal Weight\n",
        "\n"
      ],
      "metadata": {
        "id": "rH5yFvAMFRV-"
      },
      "id": "rH5yFvAMFRV-"
    },
    {
      "cell_type": "code",
      "source": [
        "interval = \"5m\"\n",
        "previous_days = 5\n",
        "tickers = \"AAPL TSLA GOOG AMZN MSFT\".split()\n",
        "\n"
      ],
      "metadata": {
        "id": "uz8IUkhNItlc"
      },
      "id": "uz8IUkhNItlc",
      "execution_count": null,
      "outputs": []
    },
    {
      "cell_type": "markdown",
      "source": [
        "## Package management\n",
        "\n"
      ],
      "metadata": {
        "id": "yEK5E0jeFVyr"
      },
      "id": "yEK5E0jeFVyr"
    },
    {
      "cell_type": "code",
      "source": [
        "import datetime\n",
        "import functools\n",
        "import math\n",
        "\n",
        "from typing import List, Tuple, Union\n",
        "\n"
      ],
      "metadata": {
        "id": "YYz6rbj-rVy3"
      },
      "id": "YYz6rbj-rVy3",
      "execution_count": null,
      "outputs": []
    },
    {
      "cell_type": "code",
      "source": [
        "Version = Union[List[int], Tuple]\n",
        "\n"
      ],
      "metadata": {
        "id": "_NHMUErE9B6N"
      },
      "id": "_NHMUErE9B6N",
      "execution_count": null,
      "outputs": []
    },
    {
      "cell_type": "code",
      "source": [
        "def check_version(req:Version, version_str:str):\n",
        "  v0, v1, v2 = version_str.split('.')\n",
        "\n",
        "  result = False\n",
        "\n",
        "  if int(v0) > req[0]:\n",
        "    result = True\n",
        "  elif int(v1) > req[1]:\n",
        "    result = True\n",
        "  elif int(v2) >= req[2]:\n",
        "    result = True\n",
        "\n",
        "  return result\n",
        "\n"
      ],
      "metadata": {
        "id": "t8YvMOUQ2DNx"
      },
      "execution_count": null,
      "outputs": [],
      "id": "t8YvMOUQ2DNx"
    },
    {
      "cell_type": "markdown",
      "source": [
        "Test function `check_version()` before using\n",
        "\n"
      ],
      "metadata": {
        "id": "AjyCmoHF7Ruq"
      },
      "id": "AjyCmoHF7Ruq"
    },
    {
      "cell_type": "code",
      "source": [
        "assert check_version([0, 9, 9], \"0.10.0\")\n",
        "\n"
      ],
      "metadata": {
        "id": "59p4QGNO6u7i"
      },
      "execution_count": null,
      "outputs": [],
      "id": "59p4QGNO6u7i"
    },
    {
      "cell_type": "code",
      "source": [
        "assert check_version([0, 10, 0], \"0.10.0\")\n",
        "\n"
      ],
      "metadata": {
        "id": "XOr2VOhv74zB"
      },
      "execution_count": null,
      "outputs": [],
      "id": "XOr2VOhv74zB"
    },
    {
      "cell_type": "markdown",
      "source": [
        "How do I unload (reload) a Python module? https://stackoverflow.com/questions/437589/how-do-i-unload-reload-a-python-module\n",
        "\n"
      ],
      "metadata": {
        "id": "-z7qvxUdACtz"
      },
      "id": "-z7qvxUdACtz"
    },
    {
      "cell_type": "code",
      "source": [
        "import pandas as pd\n",
        "if not check_version([1, 3, 5], pd.__version__):\n",
        "  !pip install --upgrade pandas\n",
        "  import importlib\n",
        "  importlib.reload(pd)\n",
        "  assert check_version([1, 3, 5], pd.__version__)\n",
        "\n"
      ],
      "metadata": {
        "id": "mqOw0Lue-sYF"
      },
      "id": "mqOw0Lue-sYF",
      "execution_count": null,
      "outputs": []
    },
    {
      "cell_type": "markdown",
      "source": [
        "Unable to get stock data from yahoo with pandas_datareader\n",
        "\n",
        "https://stackoverflow.com/questions/68327968/unable-to-get-stock-data-from-yahoo-with-pandas-datareader/68435757#68435757"
      ],
      "metadata": {
        "id": "2pujcO3yteU4"
      },
      "id": "2pujcO3yteU4"
    },
    {
      "cell_type": "markdown",
      "source": [
        "Download Financial Dataset Using Yahoo Finance in Python | A Complete Guide https://www.analyticsvidhya.com/blog/2021/06/download-financial-dataset-using-yahoo-finance-in-python-a-complete-guide/\n",
        "\n"
      ],
      "metadata": {
        "id": "3e55nXi38p6H"
      },
      "id": "3e55nXi38p6H"
    },
    {
      "cell_type": "markdown",
      "source": [
        "yfinance Library – A Complete Guide https://algotrading101.com/learn/yfinance-guide/\n"
      ],
      "metadata": {
        "id": "KszGxA0u8tB5"
      },
      "id": "KszGxA0u8tB5"
    },
    {
      "cell_type": "code",
      "execution_count": null,
      "id": "5ac401f5",
      "metadata": {
        "id": "5ac401f5"
      },
      "outputs": [],
      "source": [
        "import pandas as pd\n",
        "\n"
      ]
    },
    {
      "cell_type": "code",
      "source": [
        "try:\n",
        "  import yfinance as yf\n",
        "except ModuleNotFoundError:\n",
        "  !pip install yfinance\n",
        "  !pip install yahoofinancials\n",
        "  import yfinance as yf\n",
        "\n"
      ],
      "metadata": {
        "id": "EZ-g29m28iwF"
      },
      "id": "EZ-g29m28iwF",
      "execution_count": null,
      "outputs": []
    },
    {
      "cell_type": "markdown",
      "source": [
        "Charting Candlestick_OHLC one minute bars with Pandas and Matplotlib https://stackoverflow.com/questions/41821916/charting-candlestick-ohlc-one-minute-bars-with-pandas-and-matplotlib"
      ],
      "metadata": {
        "id": "2ZqebrTlGxI2"
      },
      "id": "2ZqebrTlGxI2"
    },
    {
      "cell_type": "markdown",
      "source": [
        "Candlestick Chart in Python (mplfinance, plotly, bokeh, bqplot and cufflinks) https://coderzcolumn.com/tutorials/data-science/candlestick-chart-in-python-mplfinance-plotly-bokeh#1"
      ],
      "metadata": {
        "id": "WRZTAQYqG-Ia"
      },
      "id": "WRZTAQYqG-Ia"
    },
    {
      "cell_type": "code",
      "source": [
        "try:\n",
        "  import mplfinance as fplt\n",
        "except ModuleNotFoundError:\n",
        "  !pip install mplfinance\n",
        "  import mplfinance as fplt\n",
        "\n"
      ],
      "metadata": {
        "id": "y7gBswmc10Gx"
      },
      "execution_count": null,
      "outputs": [],
      "id": "y7gBswmc10Gx"
    },
    {
      "cell_type": "code",
      "source": [
        "import matplotlib.pyplot as plt\n",
        "import numpy as np\n",
        "import scipy.stats as ss\n",
        "import scipy.signal as signal\n",
        "\n"
      ],
      "metadata": {
        "id": "lja4R-O6aYGq"
      },
      "id": "lja4R-O6aYGq",
      "execution_count": null,
      "outputs": []
    },
    {
      "cell_type": "markdown",
      "source": [
        "## Data period"
      ],
      "metadata": {
        "id": "nNeYJStv4R8N"
      },
      "id": "nNeYJStv4R8N"
    },
    {
      "cell_type": "code",
      "source": [
        "@functools.lru_cache()\n",
        "def tz_ny() -> str:\n",
        "  return \"America/New_York\"\n",
        "\n"
      ],
      "metadata": {
        "id": "e80ER0H9ROwF"
      },
      "id": "e80ER0H9ROwF",
      "execution_count": null,
      "outputs": []
    },
    {
      "cell_type": "markdown",
      "source": [
        "Most recent previous business day in Python https://stackoverflow.com/questions/2224742/most-recent-previous-business-day-in-python and https://stackoverflow.com/a/51528258\n",
        "\n"
      ],
      "metadata": {
        "id": "79Pv9_Bu_7hX"
      },
      "id": "79Pv9_Bu_7hX"
    },
    {
      "cell_type": "code",
      "source": [
        "from pandas.tseries.holiday import USFederalHolidayCalendar\n",
        "@functools.lru_cache()\n",
        "def USBday():\n",
        "  return pd.tseries.offsets.CustomBusinessDay(calendar=USFederalHolidayCalendar())\n",
        "\n"
      ],
      "metadata": {
        "id": "tZg6gzBTKTA3"
      },
      "id": "tZg6gzBTKTA3",
      "execution_count": null,
      "outputs": []
    },
    {
      "cell_type": "markdown",
      "source": [
        "pandas.Series.dt.tz_convert https://pandas.pydata.org/docs/reference/api/pandas.Series.dt.tz_convert.html"
      ],
      "metadata": {
        "id": "lvuDKTJS1XbA"
      },
      "id": "lvuDKTJS1XbA"
    },
    {
      "cell_type": "code",
      "source": [
        "@functools.lru_cache()\n",
        "def today(tz=tz_ny()) -> pd.Timestamp.date:\n",
        "  now = pd.Timestamp.today(tz=tz)\n",
        "\n",
        "  if now.hour < 10:\n",
        "    now += pd.Timedelta(-1, unit='D')\n",
        "\n",
        "  return now.date()\n",
        "\n"
      ],
      "metadata": {
        "id": "9tNZ_5Q5ar1l"
      },
      "id": "9tNZ_5Q5ar1l",
      "execution_count": null,
      "outputs": []
    },
    {
      "cell_type": "code",
      "source": [
        "@functools.lru_cache()\n",
        "def get_start_date(n_days:int, end_date=today(), unit=USBday()):\n",
        "  return end_date + unit * (-n_days)\n",
        "\n"
      ],
      "metadata": {
        "id": "CDHYt5d7a3h6"
      },
      "id": "CDHYt5d7a3h6",
      "execution_count": null,
      "outputs": []
    },
    {
      "cell_type": "markdown",
      "source": [
        "Python for Finance, Part I: Yahoo & Google Finance API, pandas, and matplotlib\n",
        "https://www.learndatasci.com/tutorials/python-finance-part-yahoo-finance-api-pandas-matplotlib/"
      ],
      "metadata": {
        "id": "OamE32TYzHUE"
      },
      "id": "OamE32TYzHUE"
    },
    {
      "cell_type": "markdown",
      "source": [
        "An Even Easier Guide to Getting Stock Data With Python\n",
        "https://towardsdatascience.com/an-even-easier-guide-to-getting-stock-data-with-python-1a109df6b593\n",
        "\n"
      ],
      "metadata": {
        "id": "lwbFQ72hy2Rh"
      },
      "id": "lwbFQ72hy2Rh"
    },
    {
      "cell_type": "markdown",
      "source": [
        "Google Finance API and Its Alternatives (Updated for 2021) https://rapidapi.com/blog/google-finance-api-alternatives/"
      ],
      "metadata": {
        "id": "7cpC02L00UU8"
      },
      "id": "7cpC02L00UU8"
    },
    {
      "cell_type": "markdown",
      "source": [
        "## Data-getters\n",
        "\n"
      ],
      "metadata": {
        "id": "G7awiRGM4PGc"
      },
      "id": "G7awiRGM4PGc"
    },
    {
      "cell_type": "code",
      "source": [
        "@functools.lru_cache()\n",
        "def get_df_start_end(ticker:str, start:pd.Timestamp, end:pd.Timestamp=today(), interval:str=interval):\n",
        "  assert start < end\n",
        "  if interval[-1] == 'm':\n",
        "    assert (pd.Timedelta(60) > pd.Timestamp.today(tz=tz_ny()) - start), f\"{start} older than 60 days for interval {interval!r}\"\n",
        "  tic = yf.Ticker(ticker)\n",
        "  return tic.history(start=start, end=end, interval=interval)\n",
        "\n"
      ],
      "metadata": {
        "id": "a5w83CiAbUos"
      },
      "id": "a5w83CiAbUos",
      "execution_count": null,
      "outputs": []
    },
    {
      "cell_type": "code",
      "source": [
        "def get_df_one_day(ticker:str, date:pd.Timestamp.date, interval:str=interval) -> pd.DataFrame:\n",
        "  start = pd.Timestamp(date, unit=\"s\")\n",
        "  end = pd.Timestamp(date+pd.Timedelta(1, 'D'), unit=\"s\") + pd.Timedelta(-1, 's')\n",
        "  return get_df_start_end(ticker=ticker, start=start, end=end, interval=interval)\n",
        "\n"
      ],
      "metadata": {
        "id": "ZwHUG8G9KtiR"
      },
      "id": "ZwHUG8G9KtiR",
      "execution_count": null,
      "outputs": []
    },
    {
      "cell_type": "code",
      "source": [
        "def get_df(ticker:str, n_days:int, end_date:pd.Timestamp=today(), interval:str=interval):\n",
        "  return get_df_start_end(ticker, get_start_date(n_days, end_date=end_date), end=end_date, interval=interval)\n",
        "\n"
      ],
      "metadata": {
        "id": "inQp6RKF_22Q"
      },
      "id": "inQp6RKF_22Q",
      "execution_count": null,
      "outputs": []
    },
    {
      "cell_type": "code",
      "source": [
        "def get_days_df(ticker:str, n_days:int=previous_days, end_date:pd.Timestamp=today(), interval:str=\"1D\") -> pd.DataFrame:\n",
        "  return get_df(ticker, n_days, end_date, interval)\n",
        "\n"
      ],
      "metadata": {
        "id": "A5hJQEXLnmYI"
      },
      "id": "A5hJQEXLnmYI",
      "execution_count": null,
      "outputs": []
    },
    {
      "cell_type": "code",
      "source": [
        "def get_minutes_df(ticker:str, n_days:int=2, end_date:pd.Timestamp=today(), interval:str=interval) -> pd.DataFrame:\n",
        "  return get_df(ticker, n_days, end_date, interval)\n",
        "\n"
      ],
      "metadata": {
        "id": "0kbCx8hwvT_A"
      },
      "id": "0kbCx8hwvT_A",
      "execution_count": null,
      "outputs": []
    },
    {
      "cell_type": "markdown",
      "source": [
        "Test data getter functions\n",
        "\n"
      ],
      "metadata": {
        "id": "6NV9jKBmyZcq"
      },
      "id": "6NV9jKBmyZcq"
    },
    {
      "cell_type": "code",
      "source": [
        "def test_get_days_df_sunday():\n",
        "  tic = \"GOOG\"\n",
        "  days = 5\n",
        "  end_date = pd.Timestamp(\"2022-01-23 10:50\", tz=tz_ny())\n",
        "  df_days = get_days_df(tic, n_days=days, end_date=end_date, interval=\"1D\")\n",
        "\n",
        "  assert pd.Timestamp(\"2022-01-21 00:00:00\") == df_days.index[-1]\n",
        "\n"
      ],
      "metadata": {
        "id": "TP2e-tuov7pM"
      },
      "execution_count": null,
      "outputs": [],
      "id": "TP2e-tuov7pM"
    },
    {
      "cell_type": "code",
      "source": [
        "test_get_days_df_sunday()\n",
        "\n"
      ],
      "metadata": {
        "id": "dEzsjflMyqaK"
      },
      "id": "dEzsjflMyqaK",
      "execution_count": null,
      "outputs": []
    },
    {
      "cell_type": "code",
      "source": [
        "def test_get_days_df__holiday():\n",
        "  tic = \"MSFT\"\n",
        "  days = 5\n",
        "  end_date = pd.Timestamp(\"2021-06-02 09:50\", tz=tz_ny())\n",
        "  df_days = get_days_df(tic, n_days=days, end_date=end_date, interval=\"1D\")\n",
        "\n",
        "  assert pd.Timestamp(\"2021-06-01 00:00:00\") == df_days.index[-1], df_days\n",
        "\n"
      ],
      "metadata": {
        "id": "zK4sT9h6siln"
      },
      "execution_count": null,
      "outputs": [],
      "id": "zK4sT9h6siln"
    },
    {
      "cell_type": "code",
      "source": [
        "test_get_days_df__holiday()\n",
        "\n"
      ],
      "metadata": {
        "id": "KDkNu7Omsilt"
      },
      "execution_count": null,
      "outputs": [],
      "id": "KDkNu7Omsilt"
    },
    {
      "cell_type": "code",
      "source": [
        ""
      ],
      "metadata": {
        "id": "YnXDC_X3tPbw"
      },
      "id": "YnXDC_X3tPbw",
      "execution_count": null,
      "outputs": []
    }
  ],
  "metadata": {
    "kernelspec": {
      "display_name": "Python 3",
      "language": "python",
      "name": "python3"
    },
    "language_info": {
      "codemirror_mode": {
        "name": "ipython",
        "version": 3
      },
      "file_extension": ".py",
      "mimetype": "text/x-python",
      "name": "python",
      "nbconvert_exporter": "python",
      "pygments_lexer": "ipython3",
      "version": "3.8.8"
    },
    "colab": {
      "name": "tfew.ipynb",
      "provenance": [],
      "include_colab_link": true
    }
  },
  "nbformat": 4,
  "nbformat_minor": 5
}