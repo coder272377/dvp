{
  "cells": [
    {
      "cell_type": "code",
      "source": [
        "import datetime\n",
        "\n"
      ],
      "metadata": {
        "id": "YYz6rbj-rVy3"
      },
      "id": "YYz6rbj-rVy3",
      "execution_count": null,
      "outputs": []
    },
    {
      "cell_type": "markdown",
      "source": [
        "Unable to get stock data from yahoo with pandas_datareader\n",
        "\n",
        "https://stackoverflow.com/questions/68327968/unable-to-get-stock-data-from-yahoo-with-pandas-datareader/68435757#68435757"
      ],
      "metadata": {
        "id": "2pujcO3yteU4"
      },
      "id": "2pujcO3yteU4"
    },
    {
      "cell_type": "code",
      "source": [
        "!pip install --upgrade pandas\n",
        "!pip install --upgrade pandas-datareader\n",
        "\n"
      ],
      "metadata": {
        "id": "3i41iQjMtNCG"
      },
      "id": "3i41iQjMtNCG",
      "execution_count": null,
      "outputs": []
    },
    {
      "cell_type": "code",
      "execution_count": null,
      "id": "5ac401f5",
      "metadata": {
        "id": "5ac401f5"
      },
      "outputs": [],
      "source": [
        "import pandas as pd\n",
        "import pandas_datareader as pdr\n",
        "\n"
      ]
    },
    {
      "cell_type": "code",
      "source": [
        "end_date = pd.Timestamp.today()\n",
        "start_date = end_date + datetime.timedelta(weeks=-1)\n",
        "\n"
      ],
      "metadata": {
        "id": "QImQTbl2q-e-"
      },
      "id": "QImQTbl2q-e-",
      "execution_count": null,
      "outputs": []
    },
    {
      "cell_type": "markdown",
      "source": [
        "Python for Finance, Part I: Yahoo & Google Finance API, pandas, and matplotlib\n",
        "https://www.learndatasci.com/tutorials/python-finance-part-yahoo-finance-api-pandas-matplotlib/"
      ],
      "metadata": {
        "id": "OamE32TYzHUE"
      },
      "id": "OamE32TYzHUE"
    },
    {
      "cell_type": "markdown",
      "source": [
        "An Even Easier Guide to Getting Stock Data With Python\n",
        "https://towardsdatascience.com/an-even-easier-guide-to-getting-stock-data-with-python-1a109df6b593\n",
        "\n"
      ],
      "metadata": {
        "id": "lwbFQ72hy2Rh"
      },
      "id": "lwbFQ72hy2Rh"
    },
    {
      "cell_type": "markdown",
      "source": [
        "Google Finance API and Its Alternatives (Updated for 2021) https://rapidapi.com/blog/google-finance-api-alternatives/"
      ],
      "metadata": {
        "id": "7cpC02L00UU8"
      },
      "id": "7cpC02L00UU8"
    },
    {
      "cell_type": "code",
      "source": [
        "def check_version(req=[0, 10, 0], pdr_version:str=pdr.__version__):\n",
        "  v0, v1, v2 = pdr_version.split('.')\n",
        "\n",
        "  result = False\n",
        "\n",
        "  if int(v0) > req[0]:\n",
        "    result = True\n",
        "  elif int(v1) > req[1]:\n",
        "    result = True\n",
        "  elif int(v2) >= req[2]:\n",
        "    result = True\n",
        "\n",
        "  return result\n",
        "\n"
      ],
      "metadata": {
        "id": "t8YvMOUQ2DNx"
      },
      "id": "t8YvMOUQ2DNx",
      "execution_count": null,
      "outputs": []
    },
    {
      "cell_type": "markdown",
      "source": [
        "Test function `check_version()` before using\n",
        "\n"
      ],
      "metadata": {
        "id": "AjyCmoHF7Ruq"
      },
      "id": "AjyCmoHF7Ruq"
    },
    {
      "cell_type": "code",
      "source": [
        "assert check_version([0, 9, 9], \"0.10.0\")\n",
        "\n"
      ],
      "metadata": {
        "id": "59p4QGNO6u7i"
      },
      "id": "59p4QGNO6u7i",
      "execution_count": null,
      "outputs": []
    },
    {
      "cell_type": "code",
      "source": [
        "assert check_version([0, 10, 0], \"0.10.0\")\n",
        "\n"
      ],
      "metadata": {
        "id": "XOr2VOhv74zB"
      },
      "id": "XOr2VOhv74zB",
      "execution_count": null,
      "outputs": []
    },
    {
      "cell_type": "markdown",
      "source": [
        "Check `pandas-datareader` version\n"
      ],
      "metadata": {
        "id": "x8V98Pin7ZpF"
      },
      "id": "x8V98Pin7ZpF"
    },
    {
      "cell_type": "code",
      "source": [
        "assert check_version([0, 10, 0], pdr.__version__), pdr.__version__\n",
        "\n"
      ],
      "metadata": {
        "id": "LjJPiqUg7fH1"
      },
      "id": "LjJPiqUg7fH1",
      "execution_count": null,
      "outputs": []
    },
    {
      "cell_type": "code",
      "source": [
        "# works with pandas 1.3.5 and pandas-datareader 0.10.0\n",
        "panel_data = pdr.data.DataReader(\"SPY\", \"yahoo\", start_date, end_date)\n",
        "\n"
      ],
      "metadata": {
        "id": "F3YDJQhKE5gS"
      },
      "id": "F3YDJQhKE5gS",
      "execution_count": null,
      "outputs": []
    },
    {
      "cell_type": "code",
      "source": [
        "panel_data\n",
        "\n"
      ],
      "metadata": {
        "id": "p7LJna9aqtf5"
      },
      "id": "p7LJna9aqtf5",
      "execution_count": null,
      "outputs": []
    },
    {
      "cell_type": "code",
      "source": [
        ""
      ],
      "metadata": {
        "id": "y7gBswmc10Gx"
      },
      "id": "y7gBswmc10Gx",
      "execution_count": null,
      "outputs": []
    }
  ],
  "metadata": {
    "kernelspec": {
      "display_name": "Python 3",
      "language": "python",
      "name": "python3"
    },
    "language_info": {
      "codemirror_mode": {
        "name": "ipython",
        "version": 3
      },
      "file_extension": ".py",
      "mimetype": "text/x-python",
      "name": "python",
      "nbconvert_exporter": "python",
      "pygments_lexer": "ipython3",
      "version": "3.8.8"
    },
    "colab": {
      "name": "dvp.ipynb",
      "provenance": []
    }
  },
  "nbformat": 4,
  "nbformat_minor": 5
}