{
  "cells": [
    {
      "cell_type": "markdown",
      "source": [
        "# Volume Profile\n",
        "\n"
      ],
      "metadata": {
        "id": "rH5yFvAMFRV-"
      },
      "id": "rH5yFvAMFRV-"
    },
    {
      "cell_type": "code",
      "source": [
        "# ticker = \"SPY\"\n",
        "interval = \"5m\"\n",
        "previous_days = 5\n",
        "resolution_usd = 0.1\n",
        "\n"
      ],
      "metadata": {
        "id": "uz8IUkhNItlc"
      },
      "id": "uz8IUkhNItlc",
      "execution_count": null,
      "outputs": []
    },
    {
      "cell_type": "markdown",
      "source": [
        "## Package management\n",
        "\n"
      ],
      "metadata": {
        "id": "yEK5E0jeFVyr"
      },
      "id": "yEK5E0jeFVyr"
    },
    {
      "cell_type": "code",
      "source": [
        "import datetime\n",
        "import functools\n",
        "import math\n",
        "\n",
        "from typing import List, Tuple, Union\n",
        "\n"
      ],
      "metadata": {
        "id": "YYz6rbj-rVy3"
      },
      "id": "YYz6rbj-rVy3",
      "execution_count": null,
      "outputs": []
    },
    {
      "cell_type": "code",
      "source": [
        "Version = Union[List[int], Tuple]\n",
        "\n"
      ],
      "metadata": {
        "id": "_NHMUErE9B6N"
      },
      "id": "_NHMUErE9B6N",
      "execution_count": null,
      "outputs": []
    },
    {
      "cell_type": "code",
      "source": [
        "def check_version(req:Version, version_str:str):\n",
        "  v0, v1, v2 = version_str.split('.')\n",
        "\n",
        "  result = False\n",
        "\n",
        "  if int(v0) > req[0]:\n",
        "    result = True\n",
        "  elif int(v1) > req[1]:\n",
        "    result = True\n",
        "  elif int(v2) >= req[2]:\n",
        "    result = True\n",
        "\n",
        "  return result\n",
        "\n"
      ],
      "metadata": {
        "id": "t8YvMOUQ2DNx"
      },
      "execution_count": null,
      "outputs": [],
      "id": "t8YvMOUQ2DNx"
    },
    {
      "cell_type": "markdown",
      "source": [
        "Test function `check_version()` before using\n",
        "\n"
      ],
      "metadata": {
        "id": "AjyCmoHF7Ruq"
      },
      "id": "AjyCmoHF7Ruq"
    },
    {
      "cell_type": "code",
      "source": [
        "assert check_version([0, 9, 9], \"0.10.0\")\n",
        "\n"
      ],
      "metadata": {
        "id": "59p4QGNO6u7i"
      },
      "execution_count": null,
      "outputs": [],
      "id": "59p4QGNO6u7i"
    },
    {
      "cell_type": "code",
      "source": [
        "assert check_version([0, 10, 0], \"0.10.0\")\n",
        "\n"
      ],
      "metadata": {
        "id": "XOr2VOhv74zB"
      },
      "execution_count": null,
      "outputs": [],
      "id": "XOr2VOhv74zB"
    },
    {
      "cell_type": "markdown",
      "source": [
        "How do I unload (reload) a Python module? https://stackoverflow.com/questions/437589/how-do-i-unload-reload-a-python-module\n",
        "\n"
      ],
      "metadata": {
        "id": "-z7qvxUdACtz"
      },
      "id": "-z7qvxUdACtz"
    },
    {
      "cell_type": "code",
      "source": [
        "import pandas as pd\n",
        "if not check_version([1, 3, 5], pd.__version__):\n",
        "  !pip install --upgrade pandas\n",
        "  import importlib\n",
        "  importlib.reload(pd)\n",
        "  assert check_version([1, 3, 5], pd.__version__)\n",
        "\n"
      ],
      "metadata": {
        "id": "mqOw0Lue-sYF"
      },
      "id": "mqOw0Lue-sYF",
      "execution_count": null,
      "outputs": []
    },
    {
      "cell_type": "markdown",
      "source": [
        "Unable to get stock data from yahoo with pandas_datareader\n",
        "\n",
        "https://stackoverflow.com/questions/68327968/unable-to-get-stock-data-from-yahoo-with-pandas-datareader/68435757#68435757"
      ],
      "metadata": {
        "id": "2pujcO3yteU4"
      },
      "id": "2pujcO3yteU4"
    },
    {
      "cell_type": "markdown",
      "source": [
        "Download Financial Dataset Using Yahoo Finance in Python | A Complete Guide https://www.analyticsvidhya.com/blog/2021/06/download-financial-dataset-using-yahoo-finance-in-python-a-complete-guide/\n",
        "\n"
      ],
      "metadata": {
        "id": "3e55nXi38p6H"
      },
      "id": "3e55nXi38p6H"
    },
    {
      "cell_type": "markdown",
      "source": [
        "yfinance Library – A Complete Guide https://algotrading101.com/learn/yfinance-guide/\n"
      ],
      "metadata": {
        "id": "KszGxA0u8tB5"
      },
      "id": "KszGxA0u8tB5"
    },
    {
      "cell_type": "code",
      "execution_count": null,
      "id": "5ac401f5",
      "metadata": {
        "id": "5ac401f5"
      },
      "outputs": [],
      "source": [
        "import pandas as pd\n",
        "\n"
      ]
    },
    {
      "cell_type": "code",
      "source": [
        "try:\n",
        "  import yfinance as yf\n",
        "except ModuleNotFoundError:\n",
        "  !pip install yfinance\n",
        "  !pip install yahoofinancials\n",
        "  import yfinance as yf\n",
        "\n"
      ],
      "metadata": {
        "id": "EZ-g29m28iwF"
      },
      "id": "EZ-g29m28iwF",
      "execution_count": null,
      "outputs": []
    },
    {
      "cell_type": "markdown",
      "source": [
        "Charting Candlestick_OHLC one minute bars with Pandas and Matplotlib https://stackoverflow.com/questions/41821916/charting-candlestick-ohlc-one-minute-bars-with-pandas-and-matplotlib"
      ],
      "metadata": {
        "id": "2ZqebrTlGxI2"
      },
      "id": "2ZqebrTlGxI2"
    },
    {
      "cell_type": "markdown",
      "source": [
        "Candlestick Chart in Python (mplfinance, plotly, bokeh, bqplot and cufflinks) https://coderzcolumn.com/tutorials/data-science/candlestick-chart-in-python-mplfinance-plotly-bokeh#1"
      ],
      "metadata": {
        "id": "WRZTAQYqG-Ia"
      },
      "id": "WRZTAQYqG-Ia"
    },
    {
      "cell_type": "code",
      "source": [
        "try:\n",
        "  import mplfinance as fplt\n",
        "except ModuleNotFoundError:\n",
        "  !pip install mplfinance\n",
        "  import mplfinance as fplt\n",
        "\n"
      ],
      "metadata": {
        "id": "y7gBswmc10Gx"
      },
      "execution_count": null,
      "outputs": [],
      "id": "y7gBswmc10Gx"
    },
    {
      "cell_type": "code",
      "source": [
        "import matplotlib.pyplot as plt\n",
        "import numpy as np\n",
        "import scipy.stats as ss\n",
        "import scipy.signal as signal\n",
        "\n"
      ],
      "metadata": {
        "id": "lja4R-O6aYGq"
      },
      "id": "lja4R-O6aYGq",
      "execution_count": null,
      "outputs": []
    },
    {
      "cell_type": "markdown",
      "source": [
        "## Data period"
      ],
      "metadata": {
        "id": "nNeYJStv4R8N"
      },
      "id": "nNeYJStv4R8N"
    },
    {
      "cell_type": "code",
      "source": [
        "@functools.lru_cache()\n",
        "def tz() -> str:\n",
        "  return \"America/New_York\"\n",
        "\n"
      ],
      "metadata": {
        "id": "e80ER0H9ROwF"
      },
      "id": "e80ER0H9ROwF",
      "execution_count": null,
      "outputs": []
    },
    {
      "cell_type": "markdown",
      "source": [
        "Most recent previous business day in Python https://stackoverflow.com/questions/2224742/most-recent-previous-business-day-in-python and https://stackoverflow.com/a/51528258\n",
        "\n"
      ],
      "metadata": {
        "id": "79Pv9_Bu_7hX"
      },
      "id": "79Pv9_Bu_7hX"
    },
    {
      "cell_type": "code",
      "source": [
        "from pandas.tseries.holiday import USFederalHolidayCalendar\n",
        "@functools.lru_cache()\n",
        "def USBday():\n",
        "  return pd.tseries.offsets.CustomBusinessDay(calendar=USFederalHolidayCalendar())\n",
        "\n"
      ],
      "metadata": {
        "id": "tZg6gzBTKTA3"
      },
      "id": "tZg6gzBTKTA3",
      "execution_count": null,
      "outputs": []
    },
    {
      "cell_type": "markdown",
      "source": [
        "pandas.Series.dt.tz_convert https://pandas.pydata.org/docs/reference/api/pandas.Series.dt.tz_convert.html"
      ],
      "metadata": {
        "id": "lvuDKTJS1XbA"
      },
      "id": "lvuDKTJS1XbA"
    },
    {
      "cell_type": "code",
      "source": [
        "@functools.lru_cache()\n",
        "def today(tz=tz()) -> pd.Timestamp.date:\n",
        "  return pd.Timestamp.today(tz=tz).date()\n",
        "\n"
      ],
      "metadata": {
        "id": "9tNZ_5Q5ar1l"
      },
      "id": "9tNZ_5Q5ar1l",
      "execution_count": null,
      "outputs": []
    },
    {
      "cell_type": "code",
      "source": [
        "@functools.lru_cache()\n",
        "def get_start_date(n_days:int, end_date=today(), unit=USBday()):\n",
        "  return end_date + unit * (-n_days)\n",
        "\n"
      ],
      "metadata": {
        "id": "CDHYt5d7a3h6"
      },
      "id": "CDHYt5d7a3h6",
      "execution_count": null,
      "outputs": []
    },
    {
      "cell_type": "markdown",
      "source": [
        "Python for Finance, Part I: Yahoo & Google Finance API, pandas, and matplotlib\n",
        "https://www.learndatasci.com/tutorials/python-finance-part-yahoo-finance-api-pandas-matplotlib/"
      ],
      "metadata": {
        "id": "OamE32TYzHUE"
      },
      "id": "OamE32TYzHUE"
    },
    {
      "cell_type": "markdown",
      "source": [
        "An Even Easier Guide to Getting Stock Data With Python\n",
        "https://towardsdatascience.com/an-even-easier-guide-to-getting-stock-data-with-python-1a109df6b593\n",
        "\n"
      ],
      "metadata": {
        "id": "lwbFQ72hy2Rh"
      },
      "id": "lwbFQ72hy2Rh"
    },
    {
      "cell_type": "markdown",
      "source": [
        "Google Finance API and Its Alternatives (Updated for 2021) https://rapidapi.com/blog/google-finance-api-alternatives/"
      ],
      "metadata": {
        "id": "7cpC02L00UU8"
      },
      "id": "7cpC02L00UU8"
    },
    {
      "cell_type": "markdown",
      "source": [
        "## Getting the data\n",
        "\n"
      ],
      "metadata": {
        "id": "G7awiRGM4PGc"
      },
      "id": "G7awiRGM4PGc"
    },
    {
      "cell_type": "code",
      "source": [
        "@functools.lru_cache()\n",
        "def get_df_start_end(ticker:str, start:pd.Timestamp, end:pd.Timestamp=today(), interval:str=interval):\n",
        "  tic = yf.Ticker(ticker)\n",
        "  return tic.history(start=start, end=end, interval=interval)\n",
        "\n"
      ],
      "metadata": {
        "id": "a5w83CiAbUos"
      },
      "id": "a5w83CiAbUos",
      "execution_count": null,
      "outputs": []
    },
    {
      "cell_type": "code",
      "source": [
        "def get_df_one_day(ticker:str, date:pd.Timestamp.date, interval:str=interval) -> pd.DataFrame:\n",
        "  start = pd.Timestamp(date, unit=\"s\")\n",
        "  end = pd.Timestamp(date+pd.Timedelta(1, 'D'), unit=\"s\") + pd.Timedelta(-1, 's')\n",
        "  return get_df_start_end(ticker=ticker, start=start, end=end, interval=interval)\n",
        "\n"
      ],
      "metadata": {
        "id": "ZwHUG8G9KtiR"
      },
      "id": "ZwHUG8G9KtiR",
      "execution_count": null,
      "outputs": []
    },
    {
      "cell_type": "code",
      "source": [
        "def get_df(ticker:str, n_days:int, end_date:pd.Timestamp=today(), interval:str=interval):\n",
        "  return get_df_start_end(ticker, get_start_date(n_days, end_date=end_date), end=end_date, interval=interval)\n",
        "\n"
      ],
      "metadata": {
        "id": "inQp6RKF_22Q"
      },
      "id": "inQp6RKF_22Q",
      "execution_count": null,
      "outputs": []
    },
    {
      "cell_type": "markdown",
      "source": [
        "## Plotting the chart\n",
        "\n"
      ],
      "metadata": {
        "id": "nc6GAOb_Ffpm"
      },
      "id": "nc6GAOb_Ffpm"
    },
    {
      "cell_type": "markdown",
      "source": [
        "How can I customize mplfinance.plot? https://stackoverflow.com/questions/60599812/how-can-i-customize-mplfinance-plot"
      ],
      "metadata": {
        "id": "XW2ppWgoW0jm"
      },
      "id": "XW2ppWgoW0jm"
    },
    {
      "cell_type": "markdown",
      "source": [
        "Matplotib Finance (mplfinance) formatting axes of chart unsing mpf.plot() https://stackoverflow.com/questions/67232404/matplotib-finance-mplfinance-formatting-axes-of-chart-unsing-mpf-plot\n",
        "\n"
      ],
      "metadata": {
        "id": "SSdcf1Fosr1E"
      },
      "id": "SSdcf1Fosr1E"
    },
    {
      "cell_type": "code",
      "source": [
        "def plot_candlestick(df:pd.DataFrame, ax=None):\n",
        "  if ax is None:\n",
        "    fig, ax = plt.subplots(figsize=(16, 9))\n",
        "\n",
        "  fplt.plot(\n",
        "      df,\n",
        "      type='candle',\n",
        "      style='charles',\n",
        "      ylabel='Price ($)',\n",
        "      ax=ax,\n",
        "      datetime_format=\"\"\n",
        "  );\n",
        "\n",
        "  ax.grid(True)\n",
        "\n",
        "  return ax\n",
        "\n"
      ],
      "metadata": {
        "id": "vzc5SXofB0fd"
      },
      "id": "vzc5SXofB0fd",
      "execution_count": null,
      "outputs": []
    },
    {
      "cell_type": "markdown",
      "source": [
        "## Volume Profile : daily"
      ],
      "metadata": {
        "id": "DfX1eJRp0JAI"
      },
      "id": "DfX1eJRp0JAI"
    },
    {
      "cell_type": "code",
      "source": [
        "def get_one_day_from_df(df:pd.DataFrame, date:pd.Timestamp) -> pd.DataFrame:\n",
        "  return df.loc[(df.index >= date) & (df.index < date + USBday())]\n",
        "\n"
      ],
      "metadata": {
        "id": "GowjVAm7Kxxc"
      },
      "id": "GowjVAm7Kxxc",
      "execution_count": null,
      "outputs": []
    },
    {
      "cell_type": "markdown",
      "source": [
        "Histogram values of a Pandas Series https://stackoverflow.com/questions/13129618/histogram-values-of-a-pandas-series\n",
        "\n"
      ],
      "metadata": {
        "id": "OZjr8HVj3of8"
      },
      "id": "OZjr8HVj3of8"
    },
    {
      "cell_type": "markdown",
      "source": [
        "Feature Request: Volume Profile on a chart with alpha argument #162 https://github.com/matplotlib/mplfinance/issues/162\n",
        "\n"
      ],
      "metadata": {
        "id": "WAzlMKVi30E2"
      },
      "id": "WAzlMKVi30E2"
    },
    {
      "cell_type": "code",
      "source": [
        "@functools.lru_cache()\n",
        "def round(price_usd:float, resolution_usd:float=resolution_usd):\n",
        "  assert 0 < resolution_usd\n",
        "  return math.floor(price_usd / resolution_usd) * resolution_usd\n",
        "\n"
      ],
      "metadata": {
        "id": "0BUG8CSQO8Nv"
      },
      "id": "0BUG8CSQO8Nv",
      "execution_count": null,
      "outputs": []
    },
    {
      "cell_type": "code",
      "source": [
        "assert 100.119 < round(100.1234, resolution_usd=0.01)\n",
        "assert 100.121 > round(100.1234, resolution_usd=0.01)\n",
        "\n"
      ],
      "metadata": {
        "id": "yE21rXkTPTJg"
      },
      "id": "yE21rXkTPTJg",
      "execution_count": null,
      "outputs": []
    },
    {
      "cell_type": "code",
      "source": [
        "def get_bins_min_max(min_close:float, max_close:float, resolution_usd:float=resolution_usd) -> np.ndarray:\n",
        "  return np.arange(round(min_close, resolution_usd), max_close + (0.1 * resolution_usd), resolution_usd)\n",
        "\n"
      ],
      "metadata": {
        "id": "FcngB2ubNq38"
      },
      "id": "FcngB2ubNq38",
      "execution_count": null,
      "outputs": []
    },
    {
      "cell_type": "code",
      "source": [
        "def get_bins(ser:pd.Series, resolution_usd:float):\n",
        "  return get_bins_min_max(ser.min(), ser.max(), resolution_usd)\n",
        "\n"
      ],
      "metadata": {
        "id": "d1rSO_FfXd_0"
      },
      "id": "d1rSO_FfXd_0",
      "execution_count": null,
      "outputs": []
    },
    {
      "cell_type": "code",
      "source": [
        "def calc_histogram_close(df:pd.DataFrame, bins:np.ndarray) -> Tuple[np.ndarray]:\n",
        "  return np.histogram(df[\"Close\"], bins=bins, weights=df[\"Volume\"])\n",
        "\n"
      ],
      "metadata": {
        "id": "9WVWlr7LN908"
      },
      "id": "9WVWlr7LN908",
      "execution_count": null,
      "outputs": []
    },
    {
      "cell_type": "markdown",
      "source": [
        "How to Analyze Volume Profiles With Python https://medium.com/swlh/how-to-analyze-volume-profiles-with-python-3166bb10ff24\n",
        "\n"
      ],
      "metadata": {
        "id": "XdLdULM-Xt5_"
      },
      "id": "XdLdULM-Xt5_"
    },
    {
      "cell_type": "code",
      "source": [
        "def estimate_kde(\n",
        "    df_one_day:pd.DataFrame,\n",
        "    ax=None,\n",
        "    bins:np.ndarray=None,\n",
        "    kde_factor:float=0.05\n",
        "  ) -> Tuple[np.ndarray]:\n",
        "\n",
        "  kde = ss.gaussian_kde(\n",
        "      df_one_day[\"Close\"],\n",
        "      weights=df_one_day[\"Volume\"],\n",
        "      bw_method=kde_factor\n",
        "  )\n",
        "\n",
        "  kdy = kde(bins)\n",
        "\n",
        "  return bins, kdy\n",
        "\n"
      ],
      "metadata": {
        "id": "Ru9LVkFIXBH_"
      },
      "id": "Ru9LVkFIXBH_",
      "execution_count": null,
      "outputs": []
    },
    {
      "cell_type": "code",
      "source": [
        "def close_kde_polygon(\n",
        "    price:np.ndarray,\n",
        "    density:np.ndarray\n",
        "  ) -> Tuple[np.ndarray]:\n",
        "\n",
        "  return (\n",
        "      np.append(\n",
        "          price,\n",
        "          [price[-1], price[0]]\n",
        "      ),\n",
        "      np.append(\n",
        "          density,\n",
        "          [0.0, 0.0]\n",
        "      ),\n",
        "    )\n",
        "\n"
      ],
      "metadata": {
        "id": "eeguotnIY3Z_"
      },
      "id": "eeguotnIY3Z_",
      "execution_count": null,
      "outputs": []
    },
    {
      "cell_type": "code",
      "source": [
        "def plot_kde(df_one_day:pd.DataFrame, ax=None, bins=None, kde_factor:float=0.05, alpha:float=0.5):\n",
        "  price, density = close_kde_polygon(\n",
        "      *estimate_kde(\n",
        "          df_one_day, ax, bins, kde_factor=kde_factor\n",
        "      )\n",
        "  )\n",
        "  ax.fill(density, price, alpha=alpha)\n",
        "  return ax\n",
        "\n"
      ],
      "metadata": {
        "id": "8BF74toqZu__"
      },
      "id": "8BF74toqZu__",
      "execution_count": null,
      "outputs": []
    },
    {
      "cell_type": "code",
      "source": [
        "def plot_vprofile(df_one_day:pd.DataFrame, ax=None, bins=None):\n",
        "  width, y = calc_histogram_close(df_one_day, bins=bins)\n",
        "\n",
        "  ax.set_xlim((0, 1.2*width.max()))\n",
        "  ax.barh(y=y[:-1], width=width, height=resolution_usd, alpha=0.5);\n",
        "\n",
        "  return ax\n",
        "\n"
      ],
      "metadata": {
        "id": "hY8Li7H3VsDg"
      },
      "id": "hY8Li7H3VsDg",
      "execution_count": null,
      "outputs": []
    },
    {
      "cell_type": "code",
      "source": [
        "def plot_candlestick_vprofile(df_one_day:pd.DataFrame, ax=None, bins=None):\n",
        "  ax = plot_candlestick(df_one_day, ax=ax)\n",
        "\n",
        "  ax2 = ax.twiny()\n",
        "  try:\n",
        "    plot_kde(df_one_day, ax2, bins)\n",
        "  except ValueError:\n",
        "    plot_vprofile(df_one_day, ax2, bins)\n",
        "\n",
        "  return ax, ax2\n",
        "\n"
      ],
      "metadata": {
        "id": "zIsjkNwo5FAh"
      },
      "id": "zIsjkNwo5FAh",
      "execution_count": null,
      "outputs": []
    },
    {
      "cell_type": "code",
      "source": [
        "@functools.lru_cache()\n",
        "def get_dates_tuple_start_end(start:pd.Timestamp, end:pd.Timestamp, tz=tz()):\n",
        "  return tuple(\n",
        "      pd.date_range(\n",
        "          start, end,\n",
        "          tz=tz,\n",
        "          freq=USBday(),\n",
        "      )\n",
        "  )\n",
        "\n"
      ],
      "metadata": {
        "id": "qCu19dudBdBV"
      },
      "id": "qCu19dudBdBV",
      "execution_count": null,
      "outputs": []
    },
    {
      "cell_type": "code",
      "source": [
        "def get_dates_tuple(df:pd.DataFrame, tz=tz()) -> Tuple[pd.Timestamp]:\n",
        "  return get_dates_tuple_start_end(df.index.min(), df.index.max(), tz=tz)\n",
        "\n"
      ],
      "metadata": {
        "id": "G6irHzHPPzIk"
      },
      "id": "G6irHzHPPzIk",
      "execution_count": null,
      "outputs": []
    },
    {
      "cell_type": "markdown",
      "source": [
        "Creating adjacent subplots https://matplotlib.org/stable/gallery/subplots_axes_and_figures/ganged_plots.html\n",
        "\n"
      ],
      "metadata": {
        "id": "CIkQE5ozSn7L"
      },
      "id": "CIkQE5ozSn7L"
    },
    {
      "cell_type": "markdown",
      "source": [
        "Show tick labels when sharing an axis in matplotlib https://stackoverflow.com/questions/29266966/show-tick-labels-when-sharing-an-axis-in-matplotlib\n",
        "\n"
      ],
      "metadata": {
        "id": "2eWh82679K82"
      },
      "id": "2eWh82679K82"
    },
    {
      "cell_type": "code",
      "source": [
        "def plot_daily_profile(ticker:str, n_days:int, end_date:pd.Timestamp=today(), interval:str=interval, resolution_usd:float=resolution_usd, figsize:Tuple[int]=(16,9)):\n",
        "  start_date = get_start_date(n_days=n_days, end_date=end_date)\n",
        "  dates = get_dates_tuple_start_end(start_date, end_date)\n",
        "\n",
        "  fig, axs = plt.subplots(nrows=1, ncols=len(dates), figsize=figsize, sharey=True)\n",
        "  fig.subplots_adjust(wspace=0)\n",
        "  fig.suptitle(ticker)\n",
        "\n",
        "  min_list = []\n",
        "  max_list = []\n",
        "  df_list = []\n",
        "\n",
        "  for date in dates:\n",
        "    df_date = get_df_one_day(ticker=ticker, date=date, interval=interval)\n",
        "    df_list.append(df_date)\n",
        "    min_list.append(df_date[\"Close\"].min())\n",
        "    max_list.append(df_date[\"Close\"].max())\n",
        "\n",
        "  bins_historical = get_bins_min_max(min(min_list), max(max_list), resolution_usd)\n",
        "\n",
        "  ax_collection = []\n",
        "\n",
        "  for date, ax, df_date in zip(dates, axs, df_list):\n",
        "    ax_collection.append(\n",
        "      plot_candlestick_vprofile(df_date, ax=ax, bins=bins_historical)\n",
        "    )\n",
        "\n",
        "    min_list.append(df_date[\"Close\"].min())\n",
        "    max_list.append(df_date[\"Close\"].max())\n",
        "\n",
        "  ax_collection[0][0].yaxis.set_tick_params(labelleft=True)\n",
        "  ax_collection[-1][0].yaxis.set_tick_params(labelright=True)\n",
        "\n",
        "  return ax_collection\n",
        "\n"
      ],
      "metadata": {
        "id": "bbeduK5jQRa_"
      },
      "id": "bbeduK5jQRa_",
      "execution_count": null,
      "outputs": []
    },
    {
      "cell_type": "markdown",
      "source": [
        "## Running the code\n"
      ],
      "metadata": {
        "id": "ZdT3NPkOc-h9"
      },
      "id": "ZdT3NPkOc-h9"
    },
    {
      "cell_type": "code",
      "source": [
        "ticker = \"SPY\"\n",
        "\n"
      ],
      "metadata": {
        "id": "ylkLTmInm6gc"
      },
      "id": "ylkLTmInm6gc",
      "execution_count": null,
      "outputs": []
    },
    {
      "cell_type": "code",
      "source": [
        "plot_daily_profile(ticker, n_days=10, figsize=(30,10));\n",
        "\n"
      ],
      "metadata": {
        "id": "hM7qnCztWe6F"
      },
      "id": "hM7qnCztWe6F",
      "execution_count": null,
      "outputs": []
    },
    {
      "cell_type": "markdown",
      "source": [
        "### Multiple tickers\n",
        "\n"
      ],
      "metadata": {
        "id": "6r5g3xwGm-D_"
      },
      "id": "6r5g3xwGm-D_"
    },
    {
      "cell_type": "code",
      "source": [
        "tickers = (\"QQQ\", \"FNGS\", \"BLFS\", \"TSLA\", \"NVDA\", \"MSFT\", \"O\", \"VNQ\", \"BLK\", \"IYF\", \"AEHR\")\n",
        "\n"
      ],
      "metadata": {
        "id": "LYuX46nxnHup"
      },
      "id": "LYuX46nxnHup",
      "execution_count": null,
      "outputs": []
    },
    {
      "cell_type": "code",
      "source": [
        "for ticker in tickers:\n",
        "  plot_daily_profile(ticker, n_days=10, figsize=(30,10));\n",
        "\n"
      ],
      "metadata": {
        "id": "NhLUHHABnEYs"
      },
      "id": "NhLUHHABnEYs",
      "execution_count": null,
      "outputs": []
    },
    {
      "cell_type": "code",
      "source": [
        ""
      ],
      "metadata": {
        "id": "KbRzY8NyTFnH"
      },
      "id": "KbRzY8NyTFnH",
      "execution_count": null,
      "outputs": []
    }
  ],
  "metadata": {
    "kernelspec": {
      "display_name": "Python 3",
      "language": "python",
      "name": "python3"
    },
    "language_info": {
      "codemirror_mode": {
        "name": "ipython",
        "version": 3
      },
      "file_extension": ".py",
      "mimetype": "text/x-python",
      "name": "python",
      "nbconvert_exporter": "python",
      "pygments_lexer": "ipython3",
      "version": "3.8.8"
    },
    "colab": {
      "name": "dvp.ipynb",
      "provenance": []
    }
  },
  "nbformat": 4,
  "nbformat_minor": 5
}