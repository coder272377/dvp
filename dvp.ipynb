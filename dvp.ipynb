{
  "cells": [
    {
      "cell_type": "markdown",
      "source": [
        "# Volume Profile\n",
        "\n"
      ],
      "metadata": {
        "id": "rH5yFvAMFRV-"
      },
      "id": "rH5yFvAMFRV-"
    },
    {
      "cell_type": "code",
      "source": [
        "ticker = \"SPY\"\n",
        "interval = \"5m\"\n",
        "previous_days = 5\n",
        "resolution_usd = 0.1\n",
        "\n"
      ],
      "metadata": {
        "id": "uz8IUkhNItlc"
      },
      "id": "uz8IUkhNItlc",
      "execution_count": null,
      "outputs": []
    },
    {
      "cell_type": "markdown",
      "source": [
        "## Package management\n",
        "\n"
      ],
      "metadata": {
        "id": "yEK5E0jeFVyr"
      },
      "id": "yEK5E0jeFVyr"
    },
    {
      "cell_type": "code",
      "source": [
        "import datetime\n",
        "import functools\n",
        "from typing import List, Tuple, Union\n",
        "\n"
      ],
      "metadata": {
        "id": "YYz6rbj-rVy3"
      },
      "id": "YYz6rbj-rVy3",
      "execution_count": null,
      "outputs": []
    },
    {
      "cell_type": "code",
      "source": [
        "Version = Union[List[int], Tuple]\n",
        "\n"
      ],
      "metadata": {
        "id": "_NHMUErE9B6N"
      },
      "id": "_NHMUErE9B6N",
      "execution_count": null,
      "outputs": []
    },
    {
      "cell_type": "code",
      "source": [
        "def check_version(req:Version, version_str:str):\n",
        "  v0, v1, v2 = version_str.split('.')\n",
        "\n",
        "  result = False\n",
        "\n",
        "  if int(v0) > req[0]:\n",
        "    result = True\n",
        "  elif int(v1) > req[1]:\n",
        "    result = True\n",
        "  elif int(v2) >= req[2]:\n",
        "    result = True\n",
        "\n",
        "  return result\n",
        "\n"
      ],
      "metadata": {
        "id": "t8YvMOUQ2DNx"
      },
      "execution_count": null,
      "outputs": [],
      "id": "t8YvMOUQ2DNx"
    },
    {
      "cell_type": "markdown",
      "source": [
        "Test function `check_version()` before using\n",
        "\n"
      ],
      "metadata": {
        "id": "AjyCmoHF7Ruq"
      },
      "id": "AjyCmoHF7Ruq"
    },
    {
      "cell_type": "code",
      "source": [
        "assert check_version([0, 9, 9], \"0.10.0\")\n",
        "\n"
      ],
      "metadata": {
        "id": "59p4QGNO6u7i"
      },
      "execution_count": null,
      "outputs": [],
      "id": "59p4QGNO6u7i"
    },
    {
      "cell_type": "code",
      "source": [
        "assert check_version([0, 10, 0], \"0.10.0\")\n",
        "\n"
      ],
      "metadata": {
        "id": "XOr2VOhv74zB"
      },
      "execution_count": null,
      "outputs": [],
      "id": "XOr2VOhv74zB"
    },
    {
      "cell_type": "markdown",
      "source": [
        "How do I unload (reload) a Python module? https://stackoverflow.com/questions/437589/how-do-i-unload-reload-a-python-module\n",
        "\n"
      ],
      "metadata": {
        "id": "-z7qvxUdACtz"
      },
      "id": "-z7qvxUdACtz"
    },
    {
      "cell_type": "code",
      "source": [
        "import pandas as pd\n",
        "if not check_version([1, 3, 5], pd.__version__):\n",
        "  !pip install --upgrade pandas\n",
        "  import importlib\n",
        "  importlib.reload(pd)\n",
        "  assert check_version([1, 3, 5], pd.__version__)\n",
        "\n"
      ],
      "metadata": {
        "id": "mqOw0Lue-sYF"
      },
      "id": "mqOw0Lue-sYF",
      "execution_count": null,
      "outputs": []
    },
    {
      "cell_type": "markdown",
      "source": [
        "Unable to get stock data from yahoo with pandas_datareader\n",
        "\n",
        "https://stackoverflow.com/questions/68327968/unable-to-get-stock-data-from-yahoo-with-pandas-datareader/68435757#68435757"
      ],
      "metadata": {
        "id": "2pujcO3yteU4"
      },
      "id": "2pujcO3yteU4"
    },
    {
      "cell_type": "markdown",
      "source": [
        "Download Financial Dataset Using Yahoo Finance in Python | A Complete Guide https://www.analyticsvidhya.com/blog/2021/06/download-financial-dataset-using-yahoo-finance-in-python-a-complete-guide/\n",
        "\n"
      ],
      "metadata": {
        "id": "3e55nXi38p6H"
      },
      "id": "3e55nXi38p6H"
    },
    {
      "cell_type": "markdown",
      "source": [
        "yfinance Library – A Complete Guide https://algotrading101.com/learn/yfinance-guide/\n"
      ],
      "metadata": {
        "id": "KszGxA0u8tB5"
      },
      "id": "KszGxA0u8tB5"
    },
    {
      "cell_type": "code",
      "execution_count": null,
      "id": "5ac401f5",
      "metadata": {
        "id": "5ac401f5"
      },
      "outputs": [],
      "source": [
        "import pandas as pd\n",
        "\n"
      ]
    },
    {
      "cell_type": "code",
      "source": [
        "try:\n",
        "  import yfinance as yf\n",
        "except ModuleNotFoundError:\n",
        "  !pip install yfinance\n",
        "  !pip install yahoofinancials\n",
        "  import yfinance as yf\n",
        "\n"
      ],
      "metadata": {
        "id": "EZ-g29m28iwF"
      },
      "id": "EZ-g29m28iwF",
      "execution_count": null,
      "outputs": []
    },
    {
      "cell_type": "code",
      "source": [
        "import numpy as np\n",
        "\n"
      ],
      "metadata": {
        "id": "M5U3uwhP4Fge"
      },
      "id": "M5U3uwhP4Fge",
      "execution_count": null,
      "outputs": []
    },
    {
      "cell_type": "markdown",
      "source": [
        "Charting Candlestick_OHLC one minute bars with Pandas and Matplotlib https://stackoverflow.com/questions/41821916/charting-candlestick-ohlc-one-minute-bars-with-pandas-and-matplotlib"
      ],
      "metadata": {
        "id": "2ZqebrTlGxI2"
      },
      "id": "2ZqebrTlGxI2"
    },
    {
      "cell_type": "markdown",
      "source": [
        "Candlestick Chart in Python (mplfinance, plotly, bokeh, bqplot and cufflinks) https://coderzcolumn.com/tutorials/data-science/candlestick-chart-in-python-mplfinance-plotly-bokeh#1"
      ],
      "metadata": {
        "id": "WRZTAQYqG-Ia"
      },
      "id": "WRZTAQYqG-Ia"
    },
    {
      "cell_type": "code",
      "source": [
        "try:\n",
        "  import mplfinance as fplt\n",
        "except ModuleNotFoundError:\n",
        "  !pip install mplfinance\n",
        "  import mplfinance as fplt\n",
        "\n"
      ],
      "metadata": {
        "id": "y7gBswmc10Gx"
      },
      "execution_count": null,
      "outputs": [],
      "id": "y7gBswmc10Gx"
    },
    {
      "cell_type": "markdown",
      "source": [
        "## Data period"
      ],
      "metadata": {
        "id": "nNeYJStv4R8N"
      },
      "id": "nNeYJStv4R8N"
    },
    {
      "cell_type": "code",
      "source": [
        "@functools.lru_cache()\n",
        "def tz() -> str:\n",
        "  return \"America/New_York\"\n",
        "\n"
      ],
      "metadata": {
        "id": "e80ER0H9ROwF"
      },
      "id": "e80ER0H9ROwF",
      "execution_count": null,
      "outputs": []
    },
    {
      "cell_type": "markdown",
      "source": [
        "Most recent previous business day in Python https://stackoverflow.com/questions/2224742/most-recent-previous-business-day-in-python, https://stackoverflow.com/a/51528258\n",
        "\n"
      ],
      "metadata": {
        "id": "79Pv9_Bu_7hX"
      },
      "id": "79Pv9_Bu_7hX"
    },
    {
      "cell_type": "code",
      "source": [
        "from pandas.tseries.holiday import USFederalHolidayCalendar\n",
        "@functools.lru_cache()\n",
        "def USBday():\n",
        "  return pd.tseries.offsets.CustomBusinessDay(calendar=USFederalHolidayCalendar())\n",
        "\n"
      ],
      "metadata": {
        "id": "tZg6gzBTKTA3"
      },
      "id": "tZg6gzBTKTA3",
      "execution_count": null,
      "outputs": []
    },
    {
      "cell_type": "markdown",
      "source": [
        "pandas.Series.dt.tz_convert https://pandas.pydata.org/docs/reference/api/pandas.Series.dt.tz_convert.html"
      ],
      "metadata": {
        "id": "lvuDKTJS1XbA"
      },
      "id": "lvuDKTJS1XbA"
    },
    {
      "cell_type": "code",
      "source": [
        "end_date = pd.Timestamp.today(tz=tz())\n",
        "start_date = end_date + USBday() * (-previous_days)\n",
        "start_date\n",
        "\n"
      ],
      "metadata": {
        "id": "QImQTbl2q-e-"
      },
      "id": "QImQTbl2q-e-",
      "execution_count": null,
      "outputs": []
    },
    {
      "cell_type": "markdown",
      "source": [
        "Python for Finance, Part I: Yahoo & Google Finance API, pandas, and matplotlib\n",
        "https://www.learndatasci.com/tutorials/python-finance-part-yahoo-finance-api-pandas-matplotlib/"
      ],
      "metadata": {
        "id": "OamE32TYzHUE"
      },
      "id": "OamE32TYzHUE"
    },
    {
      "cell_type": "markdown",
      "source": [
        "An Even Easier Guide to Getting Stock Data With Python\n",
        "https://towardsdatascience.com/an-even-easier-guide-to-getting-stock-data-with-python-1a109df6b593\n",
        "\n"
      ],
      "metadata": {
        "id": "lwbFQ72hy2Rh"
      },
      "id": "lwbFQ72hy2Rh"
    },
    {
      "cell_type": "markdown",
      "source": [
        "Google Finance API and Its Alternatives (Updated for 2021) https://rapidapi.com/blog/google-finance-api-alternatives/"
      ],
      "metadata": {
        "id": "7cpC02L00UU8"
      },
      "id": "7cpC02L00UU8"
    },
    {
      "cell_type": "markdown",
      "source": [
        "## Getting the data\n",
        "\n"
      ],
      "metadata": {
        "id": "G7awiRGM4PGc"
      },
      "id": "G7awiRGM4PGc"
    },
    {
      "cell_type": "code",
      "source": [
        "spy = yf.Ticker(ticker)\n",
        "\n"
      ],
      "metadata": {
        "id": "F3YDJQhKE5gS"
      },
      "id": "F3YDJQhKE5gS",
      "execution_count": null,
      "outputs": []
    },
    {
      "cell_type": "code",
      "source": [
        "spy_historical = spy.history(start=start_date, end=end_date, interval=interval)\n",
        "\n"
      ],
      "metadata": {
        "id": "p7LJna9aqtf5"
      },
      "id": "p7LJna9aqtf5",
      "execution_count": null,
      "outputs": []
    },
    {
      "cell_type": "code",
      "source": [
        "spy_historical\n",
        "\n"
      ],
      "metadata": {
        "id": "LlT6Kz1K9sgV"
      },
      "id": "LlT6Kz1K9sgV",
      "execution_count": null,
      "outputs": []
    },
    {
      "cell_type": "markdown",
      "source": [
        "## Plotting the chart\n",
        "\n"
      ],
      "metadata": {
        "id": "nc6GAOb_Ffpm"
      },
      "id": "nc6GAOb_Ffpm"
    },
    {
      "cell_type": "code",
      "source": [
        "import matplotlib.pyplot as plt\n",
        "\n"
      ],
      "metadata": {
        "id": "mhdyBeD3V8dp"
      },
      "id": "mhdyBeD3V8dp",
      "execution_count": null,
      "outputs": []
    },
    {
      "cell_type": "markdown",
      "source": [
        "How can I customize mplfinance.plot? https://stackoverflow.com/questions/60599812/how-can-i-customize-mplfinance-plot"
      ],
      "metadata": {
        "id": "XW2ppWgoW0jm"
      },
      "id": "XW2ppWgoW0jm"
    },
    {
      "cell_type": "code",
      "source": [
        "def plot_candlestick(df:pd.DataFrame, ax=None):\n",
        "  if ax is None:\n",
        "    fig, ax = plt.subplots(figsize=(16, 9))\n",
        "\n",
        "  fplt.plot(\n",
        "      df,\n",
        "      type='candle',\n",
        "      style='charles',\n",
        "      ylabel='Price ($)',\n",
        "      ax=ax,\n",
        "  );\n",
        "\n",
        "  ax.grid(True)\n",
        "\n",
        "  return ax\n",
        "\n"
      ],
      "metadata": {
        "id": "vzc5SXofB0fd"
      },
      "id": "vzc5SXofB0fd",
      "execution_count": null,
      "outputs": []
    },
    {
      "cell_type": "code",
      "source": [
        "ax = plot_candlestick(spy_historical)\n",
        "ax.set_title(f'{ticker} from {start_date.date()} to {end_date.date()}');\n",
        "\n"
      ],
      "metadata": {
        "id": "FAoyh53-F55Q"
      },
      "id": "FAoyh53-F55Q",
      "execution_count": null,
      "outputs": []
    },
    {
      "cell_type": "markdown",
      "source": [
        "## Volume Profile : daily"
      ],
      "metadata": {
        "id": "DfX1eJRp0JAI"
      },
      "id": "DfX1eJRp0JAI"
    },
    {
      "cell_type": "markdown",
      "source": [
        "### `start_date`"
      ],
      "metadata": {
        "id": "Hi9mgIZ90SeG"
      },
      "id": "Hi9mgIZ90SeG"
    },
    {
      "cell_type": "markdown",
      "source": [
        "Data of `start_date`\n",
        "\n"
      ],
      "metadata": {
        "id": "fmqVyVGl10kv"
      },
      "id": "fmqVyVGl10kv"
    },
    {
      "cell_type": "code",
      "source": [
        "def df_one_day(df:pd.DataFrame, date:pd.Timestamp) -> pd.DataFrame:\n",
        "  return df.loc[(df.index >= date) & (df.index < date + USBday())]\n",
        "\n"
      ],
      "metadata": {
        "id": "GowjVAm7Kxxc"
      },
      "id": "GowjVAm7Kxxc",
      "execution_count": null,
      "outputs": []
    },
    {
      "cell_type": "code",
      "source": [
        "spy_historical_start_date = df_one_day(spy_historical, start_date)\n",
        "\n"
      ],
      "metadata": {
        "id": "g9bo8zobU1y4"
      },
      "id": "g9bo8zobU1y4",
      "execution_count": null,
      "outputs": []
    },
    {
      "cell_type": "code",
      "source": [
        "assert spy_historical_start_date.index.max().date() == start_date.date()\n",
        "\n"
      ],
      "metadata": {
        "id": "wdTRKlwpLP4a"
      },
      "id": "wdTRKlwpLP4a",
      "execution_count": null,
      "outputs": []
    },
    {
      "cell_type": "markdown",
      "source": [
        "Histogram values of a Pandas Series https://stackoverflow.com/questions/13129618/histogram-values-of-a-pandas-series\n",
        "\n"
      ],
      "metadata": {
        "id": "OZjr8HVj3of8"
      },
      "id": "OZjr8HVj3of8"
    },
    {
      "cell_type": "markdown",
      "source": [
        "Feature Request: Volume Profile on a chart with alpha argument #162 https://github.com/matplotlib/mplfinance/issues/162\n",
        "\n"
      ],
      "metadata": {
        "id": "WAzlMKVi30E2"
      },
      "id": "WAzlMKVi30E2"
    },
    {
      "cell_type": "code",
      "source": [
        "def get_bins(ser:pd.Series, resolution_usd:float):\n",
        "  return np.arange(ser.min(), ser.max() + 1e-4, resolution_usd)\n",
        "\n"
      ],
      "metadata": {
        "id": "d1rSO_FfXd_0"
      },
      "id": "d1rSO_FfXd_0",
      "execution_count": null,
      "outputs": []
    },
    {
      "cell_type": "code",
      "source": [
        "bins_historical = get_bins(spy_historical[\"Close\"], resolution_usd)\n",
        "\n"
      ],
      "metadata": {
        "id": "zHY1Xk031-1l"
      },
      "id": "zHY1Xk031-1l",
      "execution_count": null,
      "outputs": []
    },
    {
      "cell_type": "code",
      "source": [
        "def calc_histogram_close(df:pd.DataFrame, bins:np.ndarray) -> Tuple[np.ndarray]:\n",
        "  return np.histogram(df[\"Close\"], bins=bins, weights=df[\"Volume\"])\n",
        "\n"
      ],
      "metadata": {
        "id": "9WVWlr7LN908"
      },
      "id": "9WVWlr7LN908",
      "execution_count": null,
      "outputs": []
    },
    {
      "cell_type": "code",
      "source": [
        "def plot_candlestick_vprofile(df_one_day:pd.DataFrame, ax=None, bins=None):\n",
        "  ax = plot_candlestick(df_one_day, ax=ax)\n",
        "\n",
        "  ax.set_title(f'{ticker} {df_one_day.index.min().date()}')\n",
        "\n",
        "  width, y = calc_histogram_close(df_one_day, bins=bins)\n",
        "\n",
        "  ax2 = ax.twiny()\n",
        "  ax2.set_xlim((0, 1.2*width.max()))\n",
        "  ax2.barh(y=y[:-1], width=width, height=resolution_usd, alpha=0.5);\n",
        "  return ax, ax2\n",
        "\n"
      ],
      "metadata": {
        "id": "zIsjkNwo5FAh"
      },
      "id": "zIsjkNwo5FAh",
      "execution_count": null,
      "outputs": []
    },
    {
      "cell_type": "code",
      "source": [
        "plot_candlestick_vprofile(df_one_day(spy_historical, start_date), bins=bins_historical);\n",
        "\n"
      ],
      "metadata": {
        "id": "X5rtl1cyOvyG"
      },
      "id": "X5rtl1cyOvyG",
      "execution_count": null,
      "outputs": []
    },
    {
      "cell_type": "markdown",
      "source": [
        "### all days\n",
        "\n"
      ],
      "metadata": {
        "id": "2XBm2w3gPuHb"
      },
      "id": "2XBm2w3gPuHb"
    },
    {
      "cell_type": "code",
      "source": [
        "def get_dates_tuple(df:pd.DataFrame) -> Tuple[pd.Timestamp]:\n",
        "  return tuple(\n",
        "      pd.bdate_range(\n",
        "          df.index.min().date(),\n",
        "          df.index.max().date(),\n",
        "          tz=tz(),\n",
        "      )\n",
        "  )\n",
        "\n"
      ],
      "metadata": {
        "id": "G6irHzHPPzIk"
      },
      "id": "G6irHzHPPzIk",
      "execution_count": null,
      "outputs": []
    },
    {
      "cell_type": "markdown",
      "source": [
        "Creating adjacent subplots https://matplotlib.org/stable/gallery/subplots_axes_and_figures/ganged_plots.html\n",
        "\n"
      ],
      "metadata": {
        "id": "CIkQE5ozSn7L"
      },
      "id": "CIkQE5ozSn7L"
    },
    {
      "cell_type": "code",
      "source": [
        "def plot_daily_profile(df:pd.DataFrame, resolution_usd:float=resolution_usd):\n",
        "  dates = get_dates_tuple(df)\n",
        "\n",
        "  fig, axs = plt.subplots(nrows=1, ncols=len(dates), figsize=(16,9), sharey=True)\n",
        "  fig.subplots_adjust(wspace=0)\n",
        "\n",
        "  bins_historical = get_bins(df[\"Close\"], resolution_usd)\n",
        "\n",
        "  ax_collection = []\n",
        "  for date, ax in zip(dates, axs):\n",
        "    ax_collection.append(\n",
        "      plot_candlestick_vprofile(df_one_day(df, date), ax=ax, bins=bins_historical)\n",
        "    )\n",
        "  return ax_collection\n",
        "\n"
      ],
      "metadata": {
        "id": "bbeduK5jQRa_"
      },
      "id": "bbeduK5jQRa_",
      "execution_count": null,
      "outputs": []
    },
    {
      "cell_type": "code",
      "source": [
        "plot_daily_profile(spy_historical);\n",
        "\n"
      ],
      "metadata": {
        "id": "hM7qnCztWe6F"
      },
      "id": "hM7qnCztWe6F",
      "execution_count": null,
      "outputs": []
    },
    {
      "cell_type": "code",
      "source": [
        ""
      ],
      "metadata": {
        "id": "KbRzY8NyTFnH"
      },
      "id": "KbRzY8NyTFnH",
      "execution_count": null,
      "outputs": []
    }
  ],
  "metadata": {
    "kernelspec": {
      "display_name": "Python 3",
      "language": "python",
      "name": "python3"
    },
    "language_info": {
      "codemirror_mode": {
        "name": "ipython",
        "version": 3
      },
      "file_extension": ".py",
      "mimetype": "text/x-python",
      "name": "python",
      "nbconvert_exporter": "python",
      "pygments_lexer": "ipython3",
      "version": "3.8.8"
    },
    "colab": {
      "name": "dvp.ipynb",
      "provenance": []
    }
  },
  "nbformat": 4,
  "nbformat_minor": 5
}
