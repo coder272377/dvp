{
  "cells": [
    {
      "cell_type": "markdown",
      "source": [
        "# Volume Profile\n",
        "\n"
      ],
      "metadata": {
        "id": "rH5yFvAMFRV-"
      },
      "id": "rH5yFvAMFRV-"
    },
    {
      "cell_type": "code",
      "source": [
        "ticker = \"TSLA\"\n",
        "interval = \"5m\"\n",
        "previous_days = 5\n",
        "\n"
      ],
      "metadata": {
        "id": "uz8IUkhNItlc"
      },
      "id": "uz8IUkhNItlc",
      "execution_count": null,
      "outputs": []
    },
    {
      "cell_type": "markdown",
      "source": [
        "## Getting the data\n",
        "\n"
      ],
      "metadata": {
        "id": "yEK5E0jeFVyr"
      },
      "id": "yEK5E0jeFVyr"
    },
    {
      "cell_type": "code",
      "source": [
        "import datetime\n",
        "from typing import List, Tuple, Union\n",
        "\n"
      ],
      "metadata": {
        "id": "YYz6rbj-rVy3"
      },
      "id": "YYz6rbj-rVy3",
      "execution_count": null,
      "outputs": []
    },
    {
      "cell_type": "code",
      "source": [
        "Version = Union[List[int], Tuple]\n",
        "\n"
      ],
      "metadata": {
        "id": "_NHMUErE9B6N"
      },
      "id": "_NHMUErE9B6N",
      "execution_count": null,
      "outputs": []
    },
    {
      "cell_type": "code",
      "source": [
        "def check_version(req:Version, version_str:str):\n",
        "  v0, v1, v2 = version_str.split('.')\n",
        "\n",
        "  result = False\n",
        "\n",
        "  if int(v0) > req[0]:\n",
        "    result = True\n",
        "  elif int(v1) > req[1]:\n",
        "    result = True\n",
        "  elif int(v2) >= req[2]:\n",
        "    result = True\n",
        "\n",
        "  return result\n",
        "\n"
      ],
      "metadata": {
        "id": "t8YvMOUQ2DNx"
      },
      "execution_count": null,
      "outputs": [],
      "id": "t8YvMOUQ2DNx"
    },
    {
      "cell_type": "markdown",
      "source": [
        "Test function `check_version()` before using\n",
        "\n"
      ],
      "metadata": {
        "id": "AjyCmoHF7Ruq"
      },
      "id": "AjyCmoHF7Ruq"
    },
    {
      "cell_type": "code",
      "source": [
        "assert check_version([0, 9, 9], \"0.10.0\")\n",
        "\n"
      ],
      "metadata": {
        "id": "59p4QGNO6u7i"
      },
      "execution_count": null,
      "outputs": [],
      "id": "59p4QGNO6u7i"
    },
    {
      "cell_type": "code",
      "source": [
        "assert check_version([0, 10, 0], \"0.10.0\")\n",
        "\n"
      ],
      "metadata": {
        "id": "XOr2VOhv74zB"
      },
      "execution_count": null,
      "outputs": [],
      "id": "XOr2VOhv74zB"
    },
    {
      "cell_type": "markdown",
      "source": [
        "How do I unload (reload) a Python module? https://stackoverflow.com/questions/437589/how-do-i-unload-reload-a-python-module\n",
        "\n"
      ],
      "metadata": {
        "id": "-z7qvxUdACtz"
      },
      "id": "-z7qvxUdACtz"
    },
    {
      "cell_type": "code",
      "source": [
        "import pandas as pd\n",
        "if not check_version([1, 3, 5], pd.__version__):\n",
        "  !pip install --upgrade pandas\n",
        "  import importlib\n",
        "  importlib.reload(pd)\n",
        "  assert check_version([1, 3, 5], pd.__version__)\n",
        "\n"
      ],
      "metadata": {
        "id": "mqOw0Lue-sYF"
      },
      "id": "mqOw0Lue-sYF",
      "execution_count": null,
      "outputs": []
    },
    {
      "cell_type": "markdown",
      "source": [
        "Unable to get stock data from yahoo with pandas_datareader\n",
        "\n",
        "https://stackoverflow.com/questions/68327968/unable-to-get-stock-data-from-yahoo-with-pandas-datareader/68435757#68435757"
      ],
      "metadata": {
        "id": "2pujcO3yteU4"
      },
      "id": "2pujcO3yteU4"
    },
    {
      "cell_type": "markdown",
      "source": [
        "Download Financial Dataset Using Yahoo Finance in Python | A Complete Guide https://www.analyticsvidhya.com/blog/2021/06/download-financial-dataset-using-yahoo-finance-in-python-a-complete-guide/\n",
        "\n"
      ],
      "metadata": {
        "id": "3e55nXi38p6H"
      },
      "id": "3e55nXi38p6H"
    },
    {
      "cell_type": "markdown",
      "source": [
        "yfinance Library – A Complete Guide https://algotrading101.com/learn/yfinance-guide/\n"
      ],
      "metadata": {
        "id": "KszGxA0u8tB5"
      },
      "id": "KszGxA0u8tB5"
    },
    {
      "cell_type": "code",
      "execution_count": null,
      "id": "5ac401f5",
      "metadata": {
        "id": "5ac401f5"
      },
      "outputs": [],
      "source": [
        "import pandas as pd\n",
        "\n"
      ]
    },
    {
      "cell_type": "code",
      "source": [
        "try:\n",
        "  import yfinance as yf\n",
        "except ModuleNotFoundError:\n",
        "  !pip install yfinance\n",
        "  !pip install yahoofinancials\n",
        "  import yfinance as yf\n",
        "\n"
      ],
      "metadata": {
        "id": "EZ-g29m28iwF"
      },
      "id": "EZ-g29m28iwF",
      "execution_count": null,
      "outputs": []
    },
    {
      "cell_type": "markdown",
      "source": [
        "Most recent previous business day in Python https://stackoverflow.com/questions/2224742/most-recent-previous-business-day-in-python, https://stackoverflow.com/a/51528258\n",
        "\n"
      ],
      "metadata": {
        "id": "79Pv9_Bu_7hX"
      },
      "id": "79Pv9_Bu_7hX"
    },
    {
      "cell_type": "code",
      "source": [
        "end_date = pd.Timestamp.today()\n",
        "from pandas.tseries.holiday import USFederalHolidayCalendar\n",
        "USBday = pd.tseries.offsets.CustomBusinessDay(calendar=USFederalHolidayCalendar())\n",
        "start_date = end_date + USBday * (-previous_days)\n",
        "start_date\n",
        "\n"
      ],
      "metadata": {
        "id": "QImQTbl2q-e-"
      },
      "id": "QImQTbl2q-e-",
      "execution_count": null,
      "outputs": []
    },
    {
      "cell_type": "markdown",
      "source": [
        "Python for Finance, Part I: Yahoo & Google Finance API, pandas, and matplotlib\n",
        "https://www.learndatasci.com/tutorials/python-finance-part-yahoo-finance-api-pandas-matplotlib/"
      ],
      "metadata": {
        "id": "OamE32TYzHUE"
      },
      "id": "OamE32TYzHUE"
    },
    {
      "cell_type": "markdown",
      "source": [
        "An Even Easier Guide to Getting Stock Data With Python\n",
        "https://towardsdatascience.com/an-even-easier-guide-to-getting-stock-data-with-python-1a109df6b593\n",
        "\n"
      ],
      "metadata": {
        "id": "lwbFQ72hy2Rh"
      },
      "id": "lwbFQ72hy2Rh"
    },
    {
      "cell_type": "markdown",
      "source": [
        "Google Finance API and Its Alternatives (Updated for 2021) https://rapidapi.com/blog/google-finance-api-alternatives/"
      ],
      "metadata": {
        "id": "7cpC02L00UU8"
      },
      "id": "7cpC02L00UU8"
    },
    {
      "cell_type": "code",
      "source": [
        "spy = yf.Ticker(ticker)\n",
        "\n"
      ],
      "metadata": {
        "id": "F3YDJQhKE5gS"
      },
      "id": "F3YDJQhKE5gS",
      "execution_count": null,
      "outputs": []
    },
    {
      "cell_type": "code",
      "source": [
        "spy_historical = spy.history(start=start_date, end=end_date, interval=interval)\n",
        "\n"
      ],
      "metadata": {
        "id": "p7LJna9aqtf5"
      },
      "id": "p7LJna9aqtf5",
      "execution_count": null,
      "outputs": []
    },
    {
      "cell_type": "code",
      "source": [
        "spy_historical\n",
        "\n"
      ],
      "metadata": {
        "id": "LlT6Kz1K9sgV"
      },
      "id": "LlT6Kz1K9sgV",
      "execution_count": null,
      "outputs": []
    },
    {
      "cell_type": "markdown",
      "source": [
        "## Plotting the chart\n",
        "\n"
      ],
      "metadata": {
        "id": "nc6GAOb_Ffpm"
      },
      "id": "nc6GAOb_Ffpm"
    },
    {
      "cell_type": "markdown",
      "source": [
        "Charting Candlestick_OHLC one minute bars with Pandas and Matplotlib https://stackoverflow.com/questions/41821916/charting-candlestick-ohlc-one-minute-bars-with-pandas-and-matplotlib"
      ],
      "metadata": {
        "id": "2ZqebrTlGxI2"
      },
      "id": "2ZqebrTlGxI2"
    },
    {
      "cell_type": "markdown",
      "source": [
        "Candlestick Chart in Python (mplfinance, plotly, bokeh, bqplot and cufflinks) https://coderzcolumn.com/tutorials/data-science/candlestick-chart-in-python-mplfinance-plotly-bokeh#1"
      ],
      "metadata": {
        "id": "WRZTAQYqG-Ia"
      },
      "id": "WRZTAQYqG-Ia"
    },
    {
      "cell_type": "code",
      "source": [
        "try:\n",
        "  import mplfinance as fplt\n",
        "except ModuleNotFoundError:\n",
        "  !pip install mplfinance\n",
        "  import mplfinance as fplt\n",
        "\n"
      ],
      "metadata": {
        "id": "y7gBswmc10Gx"
      },
      "id": "y7gBswmc10Gx",
      "execution_count": null,
      "outputs": []
    },
    {
      "cell_type": "code",
      "source": [
        "import matplotlib.pyplot as plt\n",
        "\n"
      ],
      "metadata": {
        "id": "mhdyBeD3V8dp"
      },
      "id": "mhdyBeD3V8dp",
      "execution_count": null,
      "outputs": []
    },
    {
      "cell_type": "markdown",
      "source": [
        "How can I customize mplfinance.plot? https://stackoverflow.com/questions/60599812/how-can-i-customize-mplfinance-plot"
      ],
      "metadata": {
        "id": "XW2ppWgoW0jm"
      },
      "id": "XW2ppWgoW0jm"
    },
    {
      "cell_type": "code",
      "source": [
        "fig, ax = plt.subplots(figsize=(16, 9))\n",
        "fplt.plot(\n",
        "    spy_historical,\n",
        "    type='candle',\n",
        "    style='charles',\n",
        "    ylabel='Price ($)',\n",
        "    ax=ax,\n",
        ");\n",
        "ax.set_title(f'{ticker} from {start_date.date()} to {end_date.date()}');\n",
        "\n"
      ],
      "metadata": {
        "id": "FAoyh53-F55Q"
      },
      "id": "FAoyh53-F55Q",
      "execution_count": null,
      "outputs": []
    },
    {
      "cell_type": "code",
      "source": [
        "list(pd.bdate_range(start_date.date(), end_date.date()))\n",
        "\n"
      ],
      "metadata": {
        "id": "g9bo8zobU1y4"
      },
      "id": "g9bo8zobU1y4",
      "execution_count": null,
      "outputs": []
    },
    {
      "cell_type": "code",
      "source": [
        ""
      ],
      "metadata": {
        "id": "6dSS5O4GHleq"
      },
      "id": "6dSS5O4GHleq",
      "execution_count": null,
      "outputs": []
    }
  ],
  "metadata": {
    "kernelspec": {
      "display_name": "Python 3",
      "language": "python",
      "name": "python3"
    },
    "language_info": {
      "codemirror_mode": {
        "name": "ipython",
        "version": 3
      },
      "file_extension": ".py",
      "mimetype": "text/x-python",
      "name": "python",
      "nbconvert_exporter": "python",
      "pygments_lexer": "ipython3",
      "version": "3.8.8"
    },
    "colab": {
      "name": "dvp.ipynb",
      "provenance": []
    }
  },
  "nbformat": 4,
  "nbformat_minor": 5
}