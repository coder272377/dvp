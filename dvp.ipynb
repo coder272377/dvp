{
  "cells": [
    {
      "cell_type": "code",
      "execution_count": null,
      "id": "5ac401f5",
      "metadata": {
        "id": "5ac401f5"
      },
      "outputs": [],
      "source": [
        "import pandas_datareader\n",
        "\n"
      ]
    },
    {
      "cell_type": "code",
      "source": [
        ""
      ],
      "metadata": {
        "id": "F3YDJQhKE5gS"
      },
      "id": "F3YDJQhKE5gS",
      "execution_count": null,
      "outputs": []
    }
  ],
  "metadata": {
    "kernelspec": {
      "display_name": "Python 3",
      "language": "python",
      "name": "python3"
    },
    "language_info": {
      "codemirror_mode": {
        "name": "ipython",
        "version": 3
      },
      "file_extension": ".py",
      "mimetype": "text/x-python",
      "name": "python",
      "nbconvert_exporter": "python",
      "pygments_lexer": "ipython3",
      "version": "3.8.8"
    },
    "colab": {
      "name": "dvp.ipynb",
      "provenance": []
    }
  },
  "nbformat": 4,
  "nbformat_minor": 5
}