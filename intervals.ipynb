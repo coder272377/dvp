{
  "nbformat": 4,
  "nbformat_minor": 0,
  "metadata": {
    "colab": {
      "name": "intervals.ipynb",
      "provenance": [],
      "authorship_tag": "ABX9TyMbJesK33jNtO838HmzYl5l",
      "include_colab_link": true
    },
    "kernelspec": {
      "name": "python3",
      "display_name": "Python 3"
    },
    "language_info": {
      "name": "python"
    }
  },
  "cells": [
    {
      "cell_type": "markdown",
      "metadata": {
        "id": "view-in-github",
        "colab_type": "text"
      },
      "source": [
        "<a href=\"https://colab.research.google.com/github/coder272377/dvp/blob/main/intervals.ipynb\" target=\"_parent\"><img src=\"https://colab.research.google.com/assets/colab-badge.svg\" alt=\"Open In Colab\"/></a>"
      ]
    },
    {
      "cell_type": "code",
      "execution_count": null,
      "metadata": {
        "id": "tsGRj76T-rm_"
      },
      "outputs": [],
      "source": [
        "import pandas as pd\n",
        "import numpy as np\n",
        "\n"
      ]
    },
    {
      "cell_type": "code",
      "source": [
        "high = float(input(\"high =\"))\n",
        "low = float(input(\"low =\"))\n",
        "n = 10\n",
        "\n"
      ],
      "metadata": {
        "id": "Ry2WYWcg-vfD"
      },
      "execution_count": null,
      "outputs": []
    },
    {
      "cell_type": "code",
      "source": [
        "values = np.linspace(low, high, 10+1)\n",
        "pct_high = (values / high - 1.0) * 100.0\n",
        "pct_low = (values / low - 1.0) * 100.0\n",
        "\n"
      ],
      "metadata": {
        "id": "MbrEB9x5_FRE"
      },
      "execution_count": null,
      "outputs": []
    },
    {
      "cell_type": "code",
      "source": [
        "df = pd.DataFrame(\n",
        "    data={\n",
        "        \"pct high\": pct_high,\n",
        "        \"pct low\": pct_low,\n",
        "    },\n",
        "    index=values,\n",
        ")\n",
        "df\n",
        "\n"
      ],
      "metadata": {
        "id": "sygno69u_a1K"
      },
      "execution_count": null,
      "outputs": []
    }
  ]
}