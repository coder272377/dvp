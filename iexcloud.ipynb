{
  "nbformat": 4,
  "nbformat_minor": 0,
  "metadata": {
    "colab": {
      "name": "iexcloud.ipynb",
      "provenance": [],
      "authorship_tag": "ABX9TyOPnX6r62DWdLntLBjq862Q",
      "include_colab_link": true
    },
    "kernelspec": {
      "name": "python3",
      "display_name": "Python 3"
    },
    "language_info": {
      "name": "python"
    }
  },
  "cells": [
    {
      "cell_type": "markdown",
      "metadata": {
        "id": "view-in-github",
        "colab_type": "text"
      },
      "source": [
        "<a href=\"https://colab.research.google.com/github/coder272377/dvp/blob/feeder/iexcloud.ipynb\" target=\"_parent\"><img src=\"https://colab.research.google.com/assets/colab-badge.svg\" alt=\"Open In Colab\"/></a>"
      ]
    },
    {
      "cell_type": "code",
      "source": [
        "import functools\n",
        "import getpass\n",
        "import os\n",
        "\n"
      ],
      "metadata": {
        "id": "cyAR2sTP5zuV"
      },
      "execution_count": null,
      "outputs": []
    },
    {
      "cell_type": "code",
      "execution_count": null,
      "metadata": {
        "id": "ND-vcIQq5pfk"
      },
      "outputs": [],
      "source": [
        "import pandas as pd\n",
        "\n"
      ]
    },
    {
      "cell_type": "code",
      "source": [
        "@functools.lru_cache()\n",
        "def get_token() -> str:\n",
        "  \"\"\"\n",
        "  user input token for iexcloud.io \n",
        "  \"\"\"\n",
        "  return getpass.getpass(\"token >\")\n",
        "\n"
      ],
      "metadata": {
        "id": "LQNbZp6K79AL"
      },
      "execution_count": null,
      "outputs": []
    },
    {
      "cell_type": "markdown",
      "source": [
        "* Evans, iexcloud.ipynb Version 1.1 28 May, 2019, https://www.palmislandtraders.com/econ136/iexcloud.html\n",
        "* IEXCloud API doc, https://iexcloud.io/docs/api/#chart\n"
      ],
      "metadata": {
        "id": "n2RoTGTl6kBf"
      }
    },
    {
      "cell_type": "code",
      "source": [
        "@functools.lru_cache()\n",
        "def daily_url(ticker:str, range_date:str, token:str=None) -> str:\n",
        "  \"\"\"\n",
        "  Get json URL for the ticker\n",
        "\n",
        "  range_date : \"2y\", \"6m\", \"date/20190220\"\n",
        "  \"\"\"\n",
        "  if token is None:\n",
        "    token = get_token()\n",
        "  return f\"https://cloud.iexapis.com/stable/stock/{ticker}/chart/{range_date}?token={token}\"\n",
        "\n"
      ],
      "metadata": {
        "id": "zPkl3Ghr5uud"
      },
      "execution_count": null,
      "outputs": []
    },
    {
      "cell_type": "code",
      "source": [
        "def chart_url(ticker:str, date_str:str, token:str=None) -> str:\n",
        "  \"\"\"\n",
        "  Get json URL for the ticker\n",
        "\n",
        "  date_str : \"20210601\"\n",
        "  \"\"\"\n",
        "  if token is None:\n",
        "    token = get_token()\n",
        "  return f\"https://cloud.iexapis.com/stable/stock/{ticker}/chart/date/{date_str}?token={token}\"\n",
        "\n"
      ],
      "metadata": {
        "id": "WD92Ydk7PLJW"
      },
      "execution_count": null,
      "outputs": []
    },
    {
      "cell_type": "code",
      "source": [
        "def get_df_date(\n",
        "    ticker:str, date_str:str, interval:str=\"1m\"\n",
        "  ) -> pd.DataFrame:\n",
        "  \"\"\"\n",
        "  Get data for n days\n",
        "  \"\"\"\n",
        "\n",
        "  df = pd.read_json(\n",
        "      chart_url(ticker, date_str)\n",
        "  )\n",
        "  df.set_index(\"date\", inplace=True)\n",
        "\n",
        "  return df\n",
        "\n"
      ],
      "metadata": {
        "id": "ito5MUaN5uE1"
      },
      "execution_count": null,
      "outputs": []
    },
    {
      "cell_type": "code",
      "source": [
        "get_df_date(\"SPY\", \"20220127\")\n",
        "\n"
      ],
      "metadata": {
        "id": "QPWiP2AH6YpB"
      },
      "execution_count": null,
      "outputs": []
    },
    {
      "cell_type": "code",
      "source": [
        ""
      ],
      "metadata": {
        "id": "LdPRWjF156tb"
      },
      "execution_count": null,
      "outputs": []
    }
  ]
}