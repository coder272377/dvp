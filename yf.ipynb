{
  "nbformat": 4,
  "nbformat_minor": 0,
  "metadata": {
    "colab": {
      "name": "yf.ipynb",
      "provenance": [],
      "authorship_tag": "ABX9TyOdNiIo/tOLoLM36HwIkg8t",
      "include_colab_link": true
    },
    "kernelspec": {
      "name": "python3",
      "display_name": "Python 3"
    },
    "language_info": {
      "name": "python"
    }
  },
  "cells": [
    {
      "cell_type": "markdown",
      "metadata": {
        "id": "view-in-github",
        "colab_type": "text"
      },
      "source": [
        "<a href=\"https://colab.research.google.com/github/coder272377/dvp/blob/feeder/yf.ipynb\" target=\"_parent\"><img src=\"https://colab.research.google.com/assets/colab-badge.svg\" alt=\"Open In Colab\"/></a>"
      ]
    },
    {
      "cell_type": "code",
      "source": [
        "import functools\n",
        "import getpass\n",
        "import os\n",
        "import urllib.parse as up\n",
        "\n",
        "from typing import Dict, Union\n",
        "\n"
      ],
      "metadata": {
        "id": "cyAR2sTP5zuV"
      },
      "execution_count": null,
      "outputs": []
    },
    {
      "cell_type": "code",
      "execution_count": null,
      "metadata": {
        "id": "ND-vcIQq5pfk"
      },
      "outputs": [],
      "source": [
        "import pandas as pd\n",
        "import requests\n",
        "\n"
      ]
    },
    {
      "cell_type": "markdown",
      "source": [
        "## Managing packages"
      ],
      "metadata": {
        "id": "YKXNDV9Pyqlx"
      }
    },
    {
      "cell_type": "code",
      "source": [
        "try:\n",
        "  import mplfinance as fplt\n",
        "except ModuleNotFoundError:\n",
        "  !pip install mplfinance\n",
        "  import mplfinance as fplt\n",
        "\n"
      ],
      "metadata": {
        "id": "IzXJxhT_ys9V"
      },
      "execution_count": null,
      "outputs": []
    },
    {
      "cell_type": "markdown",
      "source": [
        "## Getting the data\n",
        "\n"
      ],
      "metadata": {
        "id": "5PdliZSOyn8L"
      }
    },
    {
      "cell_type": "markdown",
      "source": [
        "* https://github.com/ranaroussi/yfinance/blob/main/yfinance/base.py\n",
        "\n"
      ],
      "metadata": {
        "id": "n2RoTGTl6kBf"
      }
    },
    {
      "cell_type": "code",
      "source": [
        "user_agent_headers = {'User-Agent': 'Mozilla/5.0 (Macintosh; Intel Mac OS X 10_10_1) AppleWebKit/537.36 (KHTML, like Gecko) Chrome/39.0.2171.95 Safari/537.36'}\n",
        "\n"
      ],
      "metadata": {
        "id": "doJBM7hwnpOo"
      },
      "execution_count": null,
      "outputs": []
    },
    {
      "cell_type": "code",
      "source": [
        "def chart_url(ticker:str) -> str:\n",
        "  \"\"\"\n",
        "  Get json URL for the ticker\n",
        "  \"\"\"\n",
        "  return (\n",
        "      \"https://query2.finance.yahoo.com\"\n",
        "      f\"/v8/finance/chart/{ticker}\"\n",
        "  )\n",
        "\n"
      ],
      "metadata": {
        "id": "WD92Ydk7PLJW"
      },
      "execution_count": null,
      "outputs": []
    },
    {
      "cell_type": "code",
      "source": [
        "def get_request_param(\n",
        "    start:pd.Timestamp, end:pd.Timestamp, interval:str,\n",
        "    prepost:bool=False,\n",
        "  ) -> Dict[str, Union[int, str, bool]]:\n",
        "  return {\n",
        "      \"period1\": int(start.timestamp()),\n",
        "      \"period2\": int(end.timestamp()),\n",
        "      \"interval\": interval,\n",
        "      \"includePrePost\": prepost,\n",
        "  }\n",
        "\n"
      ],
      "metadata": {
        "id": "KMp-tlKx3l48"
      },
      "execution_count": null,
      "outputs": []
    },
    {
      "cell_type": "code",
      "source": [
        "def get_index_ny(json) -> pd.Series:\n",
        "  data = []\n",
        "\n",
        "  for t in json[\"chart\"][\"result\"][0][\"timestamp\"]:\n",
        "    timestamp = pd.Timestamp(t, unit='s', tz=\"GMT\").tz_convert(tz_ny())\n",
        "    data.append(timestamp)\n",
        "  \n",
        "  return pd.Series(data)\n",
        "\n"
      ],
      "metadata": {
        "id": "-mAJReT3qKZR"
      },
      "execution_count": null,
      "outputs": []
    },
    {
      "cell_type": "code",
      "source": [
        "@functools.lru_cache()\n",
        "def tz_ny():\n",
        "  return \"America/New_York\"\n",
        "\n"
      ],
      "metadata": {
        "id": "lM-I2UY-t7-L"
      },
      "execution_count": null,
      "outputs": []
    },
    {
      "cell_type": "code",
      "source": [
        "def get_df_start_end(\n",
        "    ticker:str, start:pd.Timestamp, end:pd.Timestamp, interval:str=\"1m\"\n",
        "  ) -> pd.DataFrame:\n",
        "  \"\"\"\n",
        "  Get data for n days\n",
        "  \"\"\"\n",
        "\n",
        "  params=get_request_param(start, end, interval)\n",
        "\n",
        "  r = requests.get(\n",
        "      url=chart_url(ticker),\n",
        "      params=params,\n",
        "      headers=user_agent_headers,\n",
        "  )\n",
        "\n",
        "  assert r.ok, r.text\n",
        "\n",
        "  json = r.json()\n",
        "\n",
        "  return pd.DataFrame(\n",
        "      data=json[\"chart\"][\"result\"][0][\"indicators\"][\"quote\"][0],\n",
        "      index=get_index_ny(json),\n",
        "  )\n",
        "\n"
      ],
      "metadata": {
        "id": "ito5MUaN5uE1"
      },
      "execution_count": null,
      "outputs": []
    },
    {
      "cell_type": "code",
      "source": [
        "end = pd.Timestamp.today(tz=tz_ny())\n",
        "start = end + pd.Timedelta(-5, 'D')\n",
        "\n",
        "df = get_df_start_end(\"SPY\", start, end, \"5m\")\n",
        "\n"
      ],
      "metadata": {
        "id": "wpkjyGDuXiN3"
      },
      "execution_count": null,
      "outputs": []
    },
    {
      "cell_type": "code",
      "source": [
        "assert df.index[0].date() <= start.date(), f\"first index = {df.index[0]} start = {start}\"\n",
        "assert df.index[-1].date() <= end.date(), f\"last index = {df.index[-1]} end = {end}\"\n",
        "\n"
      ],
      "metadata": {
        "id": "HdYxYgT8cYiJ"
      },
      "execution_count": null,
      "outputs": []
    },
    {
      "cell_type": "code",
      "source": [
        "fplt.plot(\n",
        "  df,\n",
        "  type='candle',\n",
        "  style='charles',\n",
        "  ylabel='Price ($)',\n",
        "  datetime_format=\"%y/%m/%d %H:%M\"\n",
        ")\n",
        "\n"
      ],
      "metadata": {
        "id": "QPWiP2AH6YpB"
      },
      "execution_count": null,
      "outputs": []
    },
    {
      "cell_type": "code",
      "source": [
        ""
      ],
      "metadata": {
        "id": "3J6N948bpft0"
      },
      "execution_count": null,
      "outputs": []
    }
  ]
}