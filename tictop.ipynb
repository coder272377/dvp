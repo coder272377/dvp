{
  "nbformat": 4,
  "nbformat_minor": 0,
  "metadata": {
    "colab": {
      "name": "tictop.ipynb",
      "provenance": [],
      "authorship_tag": "ABX9TyNQQ21PXZlGNSuLOR6YXqG4",
      "include_colab_link": true
    },
    "kernelspec": {
      "name": "python3",
      "display_name": "Python 3"
    },
    "language_info": {
      "name": "python"
    }
  },
  "cells": [
    {
      "cell_type": "markdown",
      "metadata": {
        "id": "view-in-github",
        "colab_type": "text"
      },
      "source": [
        "<a href=\"https://colab.research.google.com/github/coder272377/dvp/blob/develop/tictop.ipynb\" target=\"_parent\"><img src=\"https://colab.research.google.com/assets/colab-badge.svg\" alt=\"Open In Colab\"/></a>"
      ]
    },
    {
      "cell_type": "markdown",
      "source": [
        "# Tic Top : Top Five Equal Weight\n",
        "\n"
      ],
      "metadata": {
        "id": "rH5yFvAMFRV-"
      }
    },
    {
      "cell_type": "code",
      "source": [
        "interval = \"5m\"\n",
        "previous_days = 5\n",
        "tickers = tuple(\"AAPL TSLA GOOG AMZN MSFT\".split())\n",
        "\n"
      ],
      "metadata": {
        "id": "uz8IUkhNItlc"
      },
      "execution_count": null,
      "outputs": []
    },
    {
      "cell_type": "markdown",
      "source": [
        "## Package management\n",
        "\n"
      ],
      "metadata": {
        "id": "yEK5E0jeFVyr"
      }
    },
    {
      "cell_type": "code",
      "source": [
        "import datetime\n",
        "import functools\n",
        "import math\n",
        "\n",
        "from typing import List, Tuple, Union\n",
        "\n"
      ],
      "metadata": {
        "id": "YYz6rbj-rVy3"
      },
      "execution_count": null,
      "outputs": []
    },
    {
      "cell_type": "code",
      "source": [
        "Version = Union[List[int], Tuple]\n",
        "\n"
      ],
      "metadata": {
        "id": "_NHMUErE9B6N"
      },
      "execution_count": null,
      "outputs": []
    },
    {
      "cell_type": "code",
      "source": [
        "def check_version(req:Version, version_str:str):\n",
        "  v0, v1, v2 = version_str.split('.')\n",
        "\n",
        "  result = False\n",
        "\n",
        "  if int(v0) > req[0]:\n",
        "    result = True\n",
        "  elif int(v1) > req[1]:\n",
        "    result = True\n",
        "  elif int(v2) >= req[2]:\n",
        "    result = True\n",
        "\n",
        "  return result\n",
        "\n"
      ],
      "metadata": {
        "id": "t8YvMOUQ2DNx"
      },
      "execution_count": null,
      "outputs": []
    },
    {
      "cell_type": "markdown",
      "source": [
        "Test function `check_version()` before using\n",
        "\n"
      ],
      "metadata": {
        "id": "AjyCmoHF7Ruq"
      }
    },
    {
      "cell_type": "code",
      "source": [
        "assert check_version([0, 9, 9], \"0.10.0\")\n",
        "\n"
      ],
      "metadata": {
        "id": "59p4QGNO6u7i"
      },
      "execution_count": null,
      "outputs": []
    },
    {
      "cell_type": "code",
      "source": [
        "assert check_version([0, 10, 0], \"0.10.0\")\n",
        "\n"
      ],
      "metadata": {
        "id": "XOr2VOhv74zB"
      },
      "execution_count": null,
      "outputs": []
    },
    {
      "cell_type": "markdown",
      "source": [
        "How do I unload (reload) a Python module? https://stackoverflow.com/questions/437589/how-do-i-unload-reload-a-python-module\n",
        "\n"
      ],
      "metadata": {
        "id": "-z7qvxUdACtz"
      }
    },
    {
      "cell_type": "code",
      "source": [
        "import pandas as pd\n",
        "if not check_version([1, 3, 5], pd.__version__):\n",
        "  !pip install --upgrade pandas\n",
        "  import importlib\n",
        "  importlib.reload(pd)\n",
        "  assert check_version([1, 3, 5], pd.__version__)\n",
        "\n"
      ],
      "metadata": {
        "id": "mqOw0Lue-sYF"
      },
      "execution_count": null,
      "outputs": []
    },
    {
      "cell_type": "markdown",
      "source": [
        "Unable to get stock data from yahoo with pandas_datareader\n",
        "\n",
        "https://stackoverflow.com/questions/68327968/unable-to-get-stock-data-from-yahoo-with-pandas-datareader/68435757#68435757"
      ],
      "metadata": {
        "id": "2pujcO3yteU4"
      }
    },
    {
      "cell_type": "markdown",
      "source": [
        "Download Financial Dataset Using Yahoo Finance in Python | A Complete Guide https://www.analyticsvidhya.com/blog/2021/06/download-financial-dataset-using-yahoo-finance-in-python-a-complete-guide/\n",
        "\n"
      ],
      "metadata": {
        "id": "3e55nXi38p6H"
      }
    },
    {
      "cell_type": "markdown",
      "source": [
        "yfinance Library – A Complete Guide https://algotrading101.com/learn/yfinance-guide/\n"
      ],
      "metadata": {
        "id": "KszGxA0u8tB5"
      }
    },
    {
      "cell_type": "code",
      "execution_count": null,
      "metadata": {
        "id": "5ac401f5"
      },
      "outputs": [],
      "source": [
        "import pandas as pd\n",
        "\n"
      ]
    },
    {
      "cell_type": "code",
      "source": [
        "try:\n",
        "  import yfinance as yf\n",
        "except ModuleNotFoundError:\n",
        "  !pip install yfinance\n",
        "  !pip install yahoofinancials\n",
        "  import yfinance as yf\n",
        "\n"
      ],
      "metadata": {
        "id": "EZ-g29m28iwF"
      },
      "execution_count": null,
      "outputs": []
    },
    {
      "cell_type": "markdown",
      "source": [
        "Charting Candlestick_OHLC one minute bars with Pandas and Matplotlib https://stackoverflow.com/questions/41821916/charting-candlestick-ohlc-one-minute-bars-with-pandas-and-matplotlib"
      ],
      "metadata": {
        "id": "2ZqebrTlGxI2"
      }
    },
    {
      "cell_type": "markdown",
      "source": [
        "Candlestick Chart in Python (mplfinance, plotly, bokeh, bqplot and cufflinks) https://coderzcolumn.com/tutorials/data-science/candlestick-chart-in-python-mplfinance-plotly-bokeh#1"
      ],
      "metadata": {
        "id": "WRZTAQYqG-Ia"
      }
    },
    {
      "cell_type": "code",
      "source": [
        "try:\n",
        "  import mplfinance as fplt\n",
        "except ModuleNotFoundError:\n",
        "  !pip install mplfinance\n",
        "  import mplfinance as fplt\n",
        "\n"
      ],
      "metadata": {
        "id": "y7gBswmc10Gx"
      },
      "execution_count": null,
      "outputs": []
    },
    {
      "cell_type": "code",
      "source": [
        "import matplotlib.pyplot as plt\n",
        "import numpy as np\n",
        "import scipy.stats as ss\n",
        "import scipy.signal as signal\n",
        "\n"
      ],
      "metadata": {
        "id": "lja4R-O6aYGq"
      },
      "execution_count": null,
      "outputs": []
    },
    {
      "cell_type": "markdown",
      "source": [
        "## Dates\n",
        "\n"
      ],
      "metadata": {
        "id": "MZmOxBAaG2Xk"
      }
    },
    {
      "cell_type": "code",
      "source": [
        "@functools.lru_cache()\n",
        "def tz_ny() -> str:\n",
        "  return \"America/New_York\"\n",
        "\n"
      ],
      "metadata": {
        "id": "wZV6XI8_SoXp"
      },
      "execution_count": null,
      "outputs": []
    },
    {
      "cell_type": "code",
      "source": [
        "from pandas.tseries.holiday import USFederalHolidayCalendar\n",
        "@functools.lru_cache()\n",
        "def USBday():\n",
        "  return pd.tseries.offsets.CustomBusinessDay(calendar=USFederalHolidayCalendar())\n",
        "\n"
      ],
      "metadata": {
        "id": "Dh36VXHhG46E"
      },
      "execution_count": null,
      "outputs": []
    },
    {
      "cell_type": "code",
      "source": [
        "def now() -> pd.Timestamp:\n",
        "  return pd.Timestamp.now(tz=tz_ny())\n",
        "\n"
      ],
      "metadata": {
        "id": "aDwQXG9cGgKA"
      },
      "execution_count": null,
      "outputs": []
    },
    {
      "cell_type": "code",
      "source": [
        "@functools.lru_cache()\n",
        "def get_start_date(n_days:int, end_date=now(), unit=USBday()):\n",
        "  return end_date + unit * (-n_days)\n",
        "\n"
      ],
      "metadata": {
        "id": "VZoMgxz0G8z0"
      },
      "execution_count": null,
      "outputs": []
    },
    {
      "cell_type": "code",
      "source": [
        "def test_get_start_date__default_argument():\n",
        "  result = get_start_date(5)\n",
        "  assert result < now(), (result, now)\n",
        "\n"
      ],
      "metadata": {
        "id": "7IPR3TN7HFLs"
      },
      "execution_count": null,
      "outputs": []
    },
    {
      "cell_type": "code",
      "source": [
        "test_get_start_date__default_argument()\n",
        "\n"
      ],
      "metadata": {
        "id": "2jIxYRVDHa7X"
      },
      "execution_count": null,
      "outputs": []
    },
    {
      "cell_type": "code",
      "source": [
        "def get_nyse_open(t:pd.Timestamp, tz=tz_ny()):\n",
        "  \"\"\"\n",
        "  09:30 of given timestamp in NY time zone\n",
        "  \"\"\"\n",
        "  return get_nyse_time(t, hour=9, minute=30, tz=tz)\n",
        "\n"
      ],
      "metadata": {
        "id": "43uJS58fR7da"
      },
      "execution_count": null,
      "outputs": []
    },
    {
      "cell_type": "code",
      "source": [
        "def get_nyse_close(t:pd.Timestamp, tz=tz_ny()):\n",
        "  \"\"\"\n",
        "  16:00 of given timestamp in NY time zone\n",
        "  \"\"\"\n",
        "  return get_nyse_time(t, hour=16, minute=00, tz=tz)\n",
        "\n"
      ],
      "metadata": {
        "id": "O40mAGdgNmkd"
      },
      "execution_count": null,
      "outputs": []
    },
    {
      "cell_type": "code",
      "source": [
        "@functools.lru_cache()\n",
        "def get_nyse_time(t:pd.Timestamp, hour:int, minute:int, tz=tz_ny()):\n",
        "  \"\"\"\n",
        "  New timestamp with given hour & minute in NY time zone\n",
        "  \"\"\"\n",
        "  return pd.Timestamp(\n",
        "    year=t.year, month=t.month, day=t.day, hour=hour, minute=minute, tz=tz,\n",
        "  )\n",
        "\n"
      ],
      "metadata": {
        "id": "jYLAnXKDNFnu"
      },
      "execution_count": null,
      "outputs": []
    },
    {
      "cell_type": "markdown",
      "source": [
        "## Data-getters\n",
        "\n"
      ],
      "metadata": {
        "id": "G7awiRGM4PGc"
      }
    },
    {
      "cell_type": "code",
      "source": [
        "def get_df_start_end(ticker:str, start:pd.Timestamp, end:pd.Timestamp=now(), interval:str=interval):\n",
        "  assert start < end\n",
        "  if interval[-1] == 'm':\n",
        "    delta = now() - start\n",
        "    assert (pd.Timedelta(60, 'D') > delta), f\"{start} older than 60 days for interval {interval!r}\"\n",
        "  tic = yf.Ticker(ticker)\n",
        "  return tic.history(start=start, end=end, interval=interval)\n",
        "\n"
      ],
      "metadata": {
        "id": "a5w83CiAbUos"
      },
      "execution_count": null,
      "outputs": []
    },
    {
      "cell_type": "code",
      "source": [
        "df = get_df_start_end(\"SPY\", pd.Timestamp(\"2022-01-20\", tz=tz_ny()), interval=\"5m\")\n",
        "df.tail()\n",
        "\n"
      ],
      "metadata": {
        "id": "AJ9VieVnl0GP"
      },
      "execution_count": null,
      "outputs": []
    },
    {
      "cell_type": "code",
      "source": [
        "def get_df(ticker:str, n_days:int, end_date:pd.Timestamp=now(), interval:str=interval):\n",
        "  return get_df_start_end(ticker, get_start_date(n_days, end_date=end_date), end=end_date, interval=interval)\n",
        "\n"
      ],
      "metadata": {
        "id": "inQp6RKF_22Q"
      },
      "execution_count": null,
      "outputs": []
    },
    {
      "cell_type": "code",
      "source": [
        "def get_days_df(ticker:str, n_days:int=previous_days, end_date:pd.Timestamp=now(), interval:str=\"1D\") -> pd.DataFrame:\n",
        "  return get_df(ticker, n_days, end_date, interval)\n",
        "\n"
      ],
      "metadata": {
        "id": "A5hJQEXLnmYI"
      },
      "execution_count": null,
      "outputs": []
    },
    {
      "cell_type": "code",
      "source": [
        "def get_minutes_df(ticker:str, n_days:int=2, end_date:pd.Timestamp=now(), interval:str=interval) -> pd.DataFrame:\n",
        "  return get_df(ticker, n_days, end_date, interval)\n",
        "\n"
      ],
      "metadata": {
        "id": "0kbCx8hwvT_A"
      },
      "execution_count": null,
      "outputs": []
    },
    {
      "cell_type": "markdown",
      "source": [
        "Test daily data getter functions\n",
        "\n"
      ],
      "metadata": {
        "id": "6NV9jKBmyZcq"
      }
    },
    {
      "cell_type": "code",
      "source": [
        "def test_get_days_df_sunday():\n",
        "  tic = \"GOOG\"\n",
        "  days = 5\n",
        "  end_date = pd.Timestamp(\"2022-01-23 10:50\")\n",
        "  df_days = get_days_df(tic, n_days=days, end_date=end_date, interval=\"1D\")\n",
        "\n",
        "  assert df_days.shape[0], df_days.shape\n",
        "  assert pd.Timestamp(\"2022-01-21 00:00:00\") == df_days.index[-1]\n",
        "\n"
      ],
      "metadata": {
        "id": "TP2e-tuov7pM"
      },
      "execution_count": null,
      "outputs": []
    },
    {
      "cell_type": "code",
      "source": [
        "test_get_days_df_sunday()\n",
        "\n"
      ],
      "metadata": {
        "id": "dEzsjflMyqaK"
      },
      "execution_count": null,
      "outputs": []
    },
    {
      "cell_type": "code",
      "source": [
        "def test_get_days_df__holiday():\n",
        "  tic = \"MSFT\"\n",
        "  days = 5\n",
        "  end_date = pd.Timestamp(\"2021-06-02 09:50\", tz=tz_ny())\n",
        "  df_days = get_days_df(tic, n_days=days, end_date=end_date, interval=\"1D\")\n",
        "\n",
        "  assert pd.Timestamp(\"2021-06-01 00:00:00\") == df_days.index[-1], df_days\n",
        "\n"
      ],
      "metadata": {
        "id": "zK4sT9h6siln"
      },
      "execution_count": null,
      "outputs": []
    },
    {
      "cell_type": "code",
      "source": [
        "test_get_days_df__holiday()\n",
        "\n"
      ],
      "metadata": {
        "id": "KDkNu7Omsilt"
      },
      "execution_count": null,
      "outputs": []
    },
    {
      "cell_type": "markdown",
      "source": [
        "Test minute data getter functions\n",
        "\n"
      ],
      "metadata": {
        "id": "GVQBVklSAWMF"
      }
    },
    {
      "cell_type": "code",
      "source": [
        "def test_get_minutes_df__today():\n",
        "  tic = \"GOOG\"\n",
        "  days = 2\n",
        "  end_date = now()\n",
        "  df_minutes = get_minutes_df(tic, n_days=days, end_date=end_date, interval=\"5m\")\n",
        "\n",
        "  assert pd.Timedelta(20, 'h') < (df_minutes.index[-1] - df_minutes.index[0]), df_minutes\n",
        "\n"
      ],
      "metadata": {
        "id": "BtkHwUi_AWMF"
      },
      "execution_count": null,
      "outputs": []
    },
    {
      "cell_type": "code",
      "source": [
        "test_get_minutes_df__today()\n",
        "\n"
      ],
      "metadata": {
        "id": "5TK_vZvFAWMG"
      },
      "execution_count": null,
      "outputs": []
    },
    {
      "cell_type": "code",
      "source": [
        "def get_prev_index(df:pd.DataFrame):\n",
        "  \"\"\"\n",
        "  Get indices before the second last day market close\n",
        "  \"\"\"\n",
        "\n",
        "  fin = df.index[-1]\n",
        "  fin_begin = get_nyse_time(fin, hour=0, minute=0)\n",
        "  prev = df.index < fin_begin\n",
        "\n",
        "  index_before_fin = df.index[prev]\n",
        "  prev_close = get_nyse_close(index_before_fin[-1])\n",
        "\n",
        "  return index_before_fin[index_before_fin < prev_close]\n",
        "\n"
      ],
      "metadata": {
        "id": "BDgGfzh5fKP0"
      },
      "execution_count": null,
      "outputs": []
    },
    {
      "cell_type": "code",
      "source": [
        "def get_last_day_df(df:pd.DataFrame):\n",
        "  index_prev = get_prev_index(df)\n",
        "  return df.drop(index_prev)\n",
        "\n"
      ],
      "metadata": {
        "id": "N67U3EZ5lDU1"
      },
      "execution_count": null,
      "outputs": []
    },
    {
      "cell_type": "markdown",
      "source": [
        "## Percentage-calculator\n",
        "\n"
      ],
      "metadata": {
        "id": "QG4Fx3diiJgr"
      }
    },
    {
      "cell_type": "code",
      "source": [
        "def calc_pct(tic:str):\n",
        "  df_minutes = get_minutes_df(tic)\n",
        "  assert df_minutes.shape[0], df_minutes.shape\n",
        "\n",
        "  index_prev = get_prev_index(df_minutes)\n",
        "\n",
        "  previous_close = df_minutes.at[index_prev[-1], \"Close\"]\n",
        "\n",
        "  df_current_date = get_last_day_df(df_minutes)\n",
        "\n",
        "  ser_current_date = df_current_date[\"Close\"]\n",
        "  assert index_prev[-1] < ser_current_date.index[0]\n",
        "\n",
        "  return ser_current_date.mul(100.0 / previous_close) - 100.0\n",
        "\n"
      ],
      "metadata": {
        "id": "M9O-OXzmOR-O"
      },
      "execution_count": null,
      "outputs": []
    },
    {
      "cell_type": "code",
      "source": [
        "def ave_pct(tickers:Tuple[str]=tickers):\n",
        "\n",
        "  df_pct = pd.DataFrame(\n",
        "      {tic:calc_pct(tic) for tic in tickers},\n",
        "      columns=tickers\n",
        "  )\n",
        "\n",
        "  result = df_pct.mean(axis=1)\n",
        "\n",
        "  return result\n",
        "\n"
      ],
      "metadata": {
        "id": "5RUvJEJDiOSc"
      },
      "execution_count": null,
      "outputs": []
    },
    {
      "cell_type": "markdown",
      "source": [
        "## Chart-plotter\n",
        "\n"
      ],
      "metadata": {
        "id": "rIqIDenhIPFT"
      }
    },
    {
      "cell_type": "code",
      "source": [
        "def get_close_upper_lower(close:pd.Series) -> Tuple[float]:\n",
        "  \"\"\"\n",
        "  Estimate lower & upper limits from close prices\n",
        "  \"\"\"\n",
        "  close_max = close.max()\n",
        "  close_min = close.min()\n",
        "\n",
        "  delta_close = close_max - close_min\n",
        "\n",
        "  close_lower = close_min - delta_close * 0.1\n",
        "  close_upper = close_max + delta_close * 0.1\n",
        "\n",
        "  return close_lower, close_upper\n"
      ],
      "metadata": {
        "id": "QxuE2eLyEBMH"
      },
      "execution_count": null,
      "outputs": []
    },
    {
      "cell_type": "code",
      "source": [
        "def plot_candlestick(df:pd.DataFrame, ax=None):\n",
        "  \"\"\"\n",
        "  Candle stick chart of a given dataframe\n",
        "  \"\"\"\n",
        "  if ax is None:\n",
        "    fig, ax = plt.subplots(figsize=(16, 9))\n",
        "\n",
        "  close_lower, close_upper = get_close_upper_lower(df[\"Close\"])\n",
        "\n",
        "  fplt.plot(\n",
        "      df,\n",
        "      type='candle',\n",
        "      style='charles',\n",
        "      ylabel='Price ($)',\n",
        "      ax=ax,\n",
        "      datetime_format=\"%y/%m/%d %H:%M\"\n",
        "  );\n",
        "\n",
        "  ax.grid(True)\n",
        "\n",
        "  ylim = ax.get_ylim()\n",
        "\n",
        "  new_ylim = (\n",
        "      max(ylim[0], close_lower),\n",
        "      min(ylim[1], close_upper),\n",
        "  )\n",
        "  ax.set_ylim(new_ylim)\n",
        "\n",
        "  return ax\n",
        "\n"
      ],
      "metadata": {
        "id": "no7vnkviIH3n"
      },
      "execution_count": null,
      "outputs": []
    },
    {
      "cell_type": "code",
      "source": [
        "def plot_candle_pct(tic, figsize:Tuple[int]=(24,10)):\n",
        "  fig, ax = plt.subplots(2, 1, figsize=figsize)\n",
        "  # fig.subplots_adjust(hspace=0)\n",
        "\n",
        "  df_minutes = get_minutes_df(tic)\n",
        "\n",
        "  fig.suptitle(f\"{tic} {df_minutes.index[-1].date()}\")\n",
        "\n",
        "  plot_candlestick(\n",
        "      get_last_day_df(df_minutes),\n",
        "      ax=ax[0]\n",
        "  )\n",
        "\n",
        "  xlim = ax[0].get_xlim()\n",
        "  xticks = ax[0].get_xticks()\n",
        "  xticklabels = ax[0].get_xticklabels()\n",
        "  # xmajorticklabels = ax[0].get_xmajorticklabels()\n",
        "\n",
        "  df_pct = ave_pct()\n",
        "  df_pct.plot.bar(\n",
        "      ax=ax[1], grid=True, ylabel=\"%\",\n",
        "      xticks=xticks,\n",
        "  )\n",
        "  ax[1].set_xticklabels(xticklabels)\n",
        "  ax[1].set_xlim(xlim);\n",
        "\n"
      ],
      "metadata": {
        "id": "nF6ey1aujsQZ"
      },
      "execution_count": null,
      "outputs": []
    },
    {
      "cell_type": "code",
      "source": [
        "print(now())\n",
        "get_last_day_df(get_minutes_df(\"SPY\"))\n",
        "\n"
      ],
      "metadata": {
        "id": "Zkn0bF8V3bnY"
      },
      "execution_count": null,
      "outputs": []
    },
    {
      "cell_type": "code",
      "source": [
        "plot_candle_pct(\"SPY\")\n",
        "\n"
      ],
      "metadata": {
        "id": "L8a7xloW-0ch"
      },
      "execution_count": null,
      "outputs": []
    },
    {
      "cell_type": "code",
      "source": [
        ""
      ],
      "metadata": {
        "id": "v4nCviQ4cxGo"
      },
      "execution_count": null,
      "outputs": []
    }
  ]
}