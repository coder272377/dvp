{
  "nbformat": 4,
  "nbformat_minor": 0,
  "metadata": {
    "colab": {
      "name": "tictop.ipynb",
      "provenance": [],
      "authorship_tag": "ABX9TyOFRxWUXbcP3aQevdn+Q1XW",
      "include_colab_link": true
    },
    "kernelspec": {
      "name": "python3",
      "display_name": "Python 3"
    },
    "language_info": {
      "name": "python"
    }
  },
  "cells": [
    {
      "cell_type": "markdown",
      "metadata": {
        "id": "view-in-github",
        "colab_type": "text"
      },
      "source": [
        "<a href=\"https://colab.research.google.com/github/coder272377/dvp/blob/feeder/tictop.ipynb\" target=\"_parent\"><img src=\"https://colab.research.google.com/assets/colab-badge.svg\" alt=\"Open In Colab\"/></a>"
      ]
    },
    {
      "cell_type": "markdown",
      "source": [
        "# Tic Top : Top Five Equal Weight\n",
        "\n"
      ],
      "metadata": {
        "id": "rH5yFvAMFRV-"
      }
    },
    {
      "cell_type": "code",
      "source": [
        "interval = \"1m\"\n",
        "previous_days = 3\n",
        "tickers = tuple(\"AAPL TSLA GOOG AMZN MSFT\".split())\n",
        "\n"
      ],
      "metadata": {
        "id": "uz8IUkhNItlc"
      },
      "execution_count": null,
      "outputs": []
    },
    {
      "cell_type": "markdown",
      "source": [
        "## Package management\n",
        "\n"
      ],
      "metadata": {
        "id": "yEK5E0jeFVyr"
      }
    },
    {
      "cell_type": "code",
      "source": [
        "import datetime\n",
        "import functools\n",
        "import math\n",
        "import urllib.parse as up\n",
        "\n",
        "from typing import Dict, List, Tuple, Union\n",
        "\n"
      ],
      "metadata": {
        "id": "YYz6rbj-rVy3"
      },
      "execution_count": null,
      "outputs": []
    },
    {
      "cell_type": "code",
      "source": [
        "import matplotlib.pyplot as plt\n",
        "import numpy as np\n",
        "import pandas as pd\n",
        "import requests\n",
        "import scipy.stats as ss\n",
        "import scipy.signal as signal\n",
        "\n"
      ],
      "metadata": {
        "id": "lja4R-O6aYGq"
      },
      "execution_count": null,
      "outputs": []
    },
    {
      "cell_type": "markdown",
      "source": [
        "yfinance Library – A Complete Guide https://algotrading101.com/learn/yfinance-guide/\n",
        "\n"
      ],
      "metadata": {
        "id": "KszGxA0u8tB5"
      }
    },
    {
      "cell_type": "markdown",
      "source": [
        "Charting Candlestick_OHLC one minute bars with Pandas and Matplotlib https://stackoverflow.com/questions/41821916/charting-candlestick-ohlc-one-minute-bars-with-pandas-and-matplotlib"
      ],
      "metadata": {
        "id": "2ZqebrTlGxI2"
      }
    },
    {
      "cell_type": "markdown",
      "source": [
        "Candlestick Chart in Python (mplfinance, plotly, bokeh, bqplot and cufflinks) https://coderzcolumn.com/tutorials/data-science/candlestick-chart-in-python-mplfinance-plotly-bokeh#1"
      ],
      "metadata": {
        "id": "WRZTAQYqG-Ia"
      }
    },
    {
      "cell_type": "code",
      "source": [
        "try:\n",
        "  import mplfinance as fplt\n",
        "except ModuleNotFoundError:\n",
        "  !pip install mplfinance\n",
        "  import mplfinance as fplt\n",
        "\n"
      ],
      "metadata": {
        "id": "y7gBswmc10Gx"
      },
      "execution_count": null,
      "outputs": []
    },
    {
      "cell_type": "markdown",
      "source": [
        "## Dates\n",
        "\n"
      ],
      "metadata": {
        "id": "MZmOxBAaG2Xk"
      }
    },
    {
      "cell_type": "code",
      "source": [
        "@functools.lru_cache()\n",
        "def tz_ny() -> str:\n",
        "  return \"America/New_York\"\n",
        "\n"
      ],
      "metadata": {
        "id": "wZV6XI8_SoXp"
      },
      "execution_count": null,
      "outputs": []
    },
    {
      "cell_type": "markdown",
      "source": [
        "Most recent previous business day in Python https://stackoverflow.com/questions/2224742/most-recent-previous-business-day-in-python and https://stackoverflow.com/a/51528258\n",
        "\n"
      ],
      "metadata": {
        "id": "dglgUyEDY8IH"
      }
    },
    {
      "cell_type": "code",
      "source": [
        "from pandas.tseries.holiday import USFederalHolidayCalendar\n",
        "@functools.lru_cache()\n",
        "def USBday():\n",
        "  \"\"\"\n",
        "  US Business day unit\n",
        "  \"\"\"\n",
        "  return pd.tseries.offsets.CustomBusinessDay(calendar=USFederalHolidayCalendar())\n",
        "\n"
      ],
      "metadata": {
        "id": "Dh36VXHhG46E"
      },
      "execution_count": null,
      "outputs": []
    },
    {
      "cell_type": "code",
      "source": [
        "def now() -> pd.Timestamp:\n",
        "  return pd.Timestamp.now(tz=tz_ny())\n",
        "\n"
      ],
      "metadata": {
        "id": "aDwQXG9cGgKA"
      },
      "execution_count": null,
      "outputs": []
    },
    {
      "cell_type": "code",
      "source": [
        "def get_start_date(n_days:int, end_date=now(), unit=USBday()):\n",
        "  return end_date + unit * (-n_days)\n",
        "\n"
      ],
      "metadata": {
        "id": "VZoMgxz0G8z0"
      },
      "execution_count": null,
      "outputs": []
    },
    {
      "cell_type": "code",
      "source": [
        "def test_get_start_date__default_argument():\n",
        "  result = get_start_date(5)\n",
        "  assert result < now(), (result, now)\n",
        "\n"
      ],
      "metadata": {
        "id": "7IPR3TN7HFLs"
      },
      "execution_count": null,
      "outputs": []
    },
    {
      "cell_type": "code",
      "source": [
        "test_get_start_date__default_argument()\n",
        "\n"
      ],
      "metadata": {
        "id": "2jIxYRVDHa7X"
      },
      "execution_count": null,
      "outputs": []
    },
    {
      "cell_type": "code",
      "source": [
        "def get_nyse_open(t:pd.Timestamp, tz=tz_ny()):\n",
        "  \"\"\"\n",
        "  09:30 of given timestamp in NY time zone\n",
        "  \"\"\"\n",
        "  return get_nyse_time(t, hour=9, minute=30, tz=tz)\n",
        "\n"
      ],
      "metadata": {
        "id": "43uJS58fR7da"
      },
      "execution_count": null,
      "outputs": []
    },
    {
      "cell_type": "code",
      "source": [
        "def get_nyse_close(t:pd.Timestamp, tz=tz_ny()):\n",
        "  \"\"\"\n",
        "  16:00 of given timestamp in NY time zone\n",
        "  \"\"\"\n",
        "  return get_nyse_time(t, hour=16, minute=00, tz=tz)\n",
        "\n"
      ],
      "metadata": {
        "id": "O40mAGdgNmkd"
      },
      "execution_count": null,
      "outputs": []
    },
    {
      "cell_type": "code",
      "source": [
        "def get_nyse_time(t:pd.Timestamp, hour:int, minute:int, tz=tz_ny()):\n",
        "  \"\"\"\n",
        "  New timestamp with given hour & minute in NY time zone\n",
        "  \"\"\"\n",
        "  return pd.Timestamp(\n",
        "    year=t.year, month=t.month, day=t.day, hour=hour, minute=minute, tz=tz,\n",
        "  )\n",
        "\n"
      ],
      "metadata": {
        "id": "jYLAnXKDNFnu"
      },
      "execution_count": null,
      "outputs": []
    },
    {
      "cell_type": "markdown",
      "source": [
        "## Data-getters\n",
        "\n"
      ],
      "metadata": {
        "id": "G7awiRGM4PGc"
      }
    },
    {
      "cell_type": "code",
      "source": [
        "@functools.lru_cache()\n",
        "def header() -> Dict[str, str]:\n",
        "  return {\n",
        "      'User-Agent': 'Mozilla/5.0 (Macintosh; Intel Mac OS X 10_10_1) AppleWebKit/537.36 (KHTML, like Gecko) Chrome/39.0.2171.95 Safari/537.36'\n",
        "  }\n",
        "\n"
      ],
      "metadata": {
        "id": "nTuQgiowvle5"
      },
      "execution_count": null,
      "outputs": []
    },
    {
      "cell_type": "code",
      "source": [
        "def get_yf_timestamp(timestamp:pd.Timestamp) -> int:\n",
        "  return int(timestamp.timestamp())\n",
        "\n"
      ],
      "metadata": {
        "id": "5f6kvW5rZX48"
      },
      "execution_count": null,
      "outputs": []
    },
    {
      "cell_type": "code",
      "source": [
        "def test_get_yf_timestamp__22_Jan_21():\n",
        "  timestamp = pd.Timestamp(\"2022-01-21\", tz=tz_ny())\n",
        "  result = get_yf_timestamp(timestamp)\n",
        "\n",
        "  expected = 1642723200\n",
        "  expected_timestamp = pd.Timestamp(expected, unit='s', tz=\"GMT\")\n",
        "\n",
        "  result_timestamp = pd.Timestamp(result, unit='s', tz=tz_ny())\n",
        "\n",
        "  assert result_timestamp.date() == expected_timestamp.date(), ('\\n'\n",
        "      f\"result =\\t{result} = {result_timestamp}\\n\"\n",
        "      f\"expected =\\t{expected} = {expected_timestamp}\"\n",
        "  )\n",
        "\n"
      ],
      "metadata": {
        "id": "oqnb8N4gZY_H"
      },
      "execution_count": null,
      "outputs": []
    },
    {
      "cell_type": "code",
      "source": [
        "test_get_yf_timestamp__22_Jan_21()\n",
        "\n"
      ],
      "metadata": {
        "id": "M-QaOq8RZcYA"
      },
      "execution_count": null,
      "outputs": []
    },
    {
      "cell_type": "code",
      "source": [
        "def chart_url(ticker:str) -> str:\n",
        "  \"\"\"\n",
        "  Get json URL for the ticker\n",
        "  \"\"\"\n",
        "  return (\n",
        "      \"https://query2.finance.yahoo.com\"\n",
        "      f\"/v8/finance/chart/{ticker}\"\n",
        "  )\n",
        "\n"
      ],
      "metadata": {
        "id": "GACvHHTqZeK5"
      },
      "execution_count": null,
      "outputs": []
    },
    {
      "cell_type": "code",
      "source": [
        "def test_chart_url__ticker():\n",
        "  ticker=\"SPY\"\n",
        "\n",
        "  result = chart_url(ticker)\n",
        "\n",
        "  parsed = up.urlparse(result)\n",
        "\n",
        "  assert \"https\" == parsed.scheme, parsed\n",
        "  assert parsed.path.split('/')[-1] == ticker, parsed\n",
        "\n"
      ],
      "metadata": {
        "id": "VCSRp-JXZfiO"
      },
      "execution_count": null,
      "outputs": []
    },
    {
      "cell_type": "code",
      "source": [
        "def get_request_param(\n",
        "    start:pd.Timestamp, end:pd.Timestamp, interval:str,\n",
        "    prepost:bool=True,\n",
        "  ) -> Dict[str, Union[int, str, bool]]:\n",
        "  return {\n",
        "      \"period1\": int(start.timestamp()),\n",
        "      \"period2\": int(end.timestamp()),\n",
        "      \"interval\": interval.lower(),\n",
        "      \"includePrePost\": prepost,\n",
        "  }\n",
        "\n"
      ],
      "metadata": {
        "id": "2zqckklrZhiF"
      },
      "execution_count": null,
      "outputs": []
    },
    {
      "cell_type": "code",
      "source": [
        "def test_get_request_param__timezone_timestamps():\n",
        "  start = pd.Timestamp(\"2022-01-21 00:00\", tz=tz_ny())\n",
        "  end = pd.Timestamp(\"2022-01-21 23:59\", tz=tz_ny())\n",
        "  interval = \"1m\"\n",
        "\n",
        "  query = get_request_param(start, end, interval)\n",
        "\n",
        "  start_from_url = pd.Timestamp(float(query[\"period1\"]), unit='s', tz=tz_ny())\n",
        "  assert start_from_url == start, (start_from_url, start)\n",
        "\n",
        "  end_from_url = pd.Timestamp(float(query[\"period2\"]), unit='s', tz=tz_ny())\n",
        "  assert end_from_url == end, (end_from_url, end)\n",
        "\n"
      ],
      "metadata": {
        "id": "5g1pFGPVZix6"
      },
      "execution_count": null,
      "outputs": []
    },
    {
      "cell_type": "code",
      "source": [
        "test_get_request_param__timezone_timestamps()\n",
        "\n"
      ],
      "metadata": {
        "id": "bH5qwp5ZZkXE"
      },
      "execution_count": null,
      "outputs": []
    },
    {
      "cell_type": "markdown",
      "source": [
        "pandas.Series.dt.tz_convert https://pandas.pydata.org/docs/reference/api/pandas.Series.dt.tz_convert.html\n",
        "\n"
      ],
      "metadata": {
        "id": "CTHdXmZ0ct5K"
      }
    },
    {
      "cell_type": "code",
      "source": [
        "@functools.lru_cache()\n",
        "def int_2_timestamp(t:int, tz:str=tz_ny()) -> pd.Timestamp:\n",
        "  return pd.Timestamp(t, unit='s', tz=\"GMT\").tz_convert(tz_ny())\n",
        "\n"
      ],
      "metadata": {
        "id": "6wLxqfv0ZmRv"
      },
      "execution_count": null,
      "outputs": []
    },
    {
      "cell_type": "code",
      "source": [
        "def get_index_ny(json) -> pd.Series:\n",
        "  data = []\n",
        "\n",
        "  for t in json[\"chart\"][\"result\"][0][\"timestamp\"]:\n",
        "    data.append(int_2_timestamp(t))\n",
        "  \n",
        "  return pd.Series(data)\n",
        "\n"
      ],
      "metadata": {
        "id": "I3qrp9euc_EI"
      },
      "execution_count": null,
      "outputs": []
    },
    {
      "cell_type": "code",
      "source": [
        "@functools.lru_cache()\n",
        "def get_df_start_end(\n",
        "    ticker:str,\n",
        "    start:pd.Timestamp, end:pd.Timestamp=now(), interval:str=interval,\n",
        "    headers=header(),\n",
        "  ) -> pd.DataFrame:\n",
        "  \"\"\"\n",
        "  Read data between start and end\n",
        "  \"\"\"\n",
        "\n",
        "  params=get_request_param(start, end, interval)\n",
        "\n",
        "  r = requests.get(\n",
        "      chart_url(ticker),\n",
        "      params=params,\n",
        "      headers=headers,\n",
        "  )\n",
        "\n",
        "  assert r.ok, r.text\n",
        "\n",
        "  json = r.json()\n",
        "\n",
        "  df = pd.DataFrame(\n",
        "      data=json[\"chart\"][\"result\"][0][\"indicators\"][\"quote\"][0],\n",
        "      index=get_index_ny(json),\n",
        "  )\n",
        "\n",
        "  df.columns = df.columns.str.capitalize()\n",
        "\n",
        "  return df\n",
        "\n"
      ],
      "metadata": {
        "id": "a5w83CiAbUos"
      },
      "execution_count": null,
      "outputs": []
    },
    {
      "cell_type": "code",
      "source": [
        "def get_df(ticker:str, n_days:int, end_date:pd.Timestamp=now(), interval:str=interval):\n",
        "  return get_df_start_end(ticker, get_start_date(n_days, end_date=end_date), end=end_date, interval=interval)\n",
        "\n"
      ],
      "metadata": {
        "id": "inQp6RKF_22Q"
      },
      "execution_count": null,
      "outputs": []
    },
    {
      "cell_type": "code",
      "source": [
        "def get_days_df(ticker:str, n_days:int=previous_days, end_date:pd.Timestamp=now(), interval:str=\"1D\") -> pd.DataFrame:\n",
        "  return get_df(ticker, n_days, end_date, interval)\n",
        "\n"
      ],
      "metadata": {
        "id": "A5hJQEXLnmYI"
      },
      "execution_count": null,
      "outputs": []
    },
    {
      "cell_type": "code",
      "source": [
        "def get_minutes_df(ticker:str, n_days:int=2, end_date:pd.Timestamp=now(), interval:str=interval) -> pd.DataFrame:\n",
        "  return get_df(ticker, n_days, end_date, interval)\n",
        "\n"
      ],
      "metadata": {
        "id": "0kbCx8hwvT_A"
      },
      "execution_count": null,
      "outputs": []
    },
    {
      "cell_type": "markdown",
      "source": [
        "Test daily data getter functions\n",
        "\n"
      ],
      "metadata": {
        "id": "6NV9jKBmyZcq"
      }
    },
    {
      "cell_type": "code",
      "source": [
        "def get_last_sunday(start:pd.Timestamp=now()) -> pd.Timestamp:\n",
        "  start = get_nyse_time(start, hour=10, minute=50)\n",
        "  for offset in range(-1, -7-1, -1):\n",
        "    result = start + pd.Timedelta(offset, 'd')\n",
        "    if 6 == result.dayofweek:\n",
        "      break;\n",
        "  return result\n",
        "\n"
      ],
      "metadata": {
        "id": "kZ6z3O4bfqyw"
      },
      "execution_count": null,
      "outputs": []
    },
    {
      "cell_type": "code",
      "source": [
        "def test__get_last_sunday__2022_Jan_25():\n",
        "  start = pd.Timestamp(\"2022-01-25 10:50\", tz=tz_ny())\n",
        "  result = get_last_sunday(start)\n",
        "\n",
        "  expected = pd.Timestamp(\"2022-01-23 10:50\", tz=tz_ny())\n",
        "  assert 6 == result.dayofweek\n",
        "  assert result == expected, (result, expected)\n",
        "\n",
        "\n"
      ],
      "metadata": {
        "id": "shLgfmuAgo9N"
      },
      "execution_count": null,
      "outputs": []
    },
    {
      "cell_type": "code",
      "source": [
        "test__get_last_sunday__2022_Jan_25()\n",
        "\n"
      ],
      "metadata": {
        "id": "M8b5B21ChiNX"
      },
      "execution_count": null,
      "outputs": []
    },
    {
      "cell_type": "code",
      "source": [
        "def get_last_trading_day(start:pd.Timestamp=now()) -> pd.Timestamp:\n",
        "  start = get_nyse_time(start, hour=00, minute=00)\n",
        "  result = start + (-1) * USBday()\n",
        "  return result\n",
        "\n"
      ],
      "metadata": {
        "id": "OezWoja5iV6e"
      },
      "execution_count": null,
      "outputs": []
    },
    {
      "cell_type": "code",
      "source": [
        "def test__get_last_trading_day__2022_Jan_23():\n",
        "  start = pd.Timestamp(\"2022-01-23 10:50\", tz=tz_ny())\n",
        "  result = get_last_trading_day(start)\n",
        "\n",
        "  expected = pd.Timestamp(\"2022-01-21 10:50\", tz=tz_ny())\n",
        "  assert result.date() == expected.date(), (result, expected)\n",
        "\n"
      ],
      "metadata": {
        "id": "VXCCHcjSi0Dn"
      },
      "execution_count": null,
      "outputs": []
    },
    {
      "cell_type": "code",
      "source": [
        "test__get_last_trading_day__2022_Jan_23()\n",
        "\n"
      ],
      "metadata": {
        "id": "11pXNOZ9jYDi"
      },
      "execution_count": null,
      "outputs": []
    },
    {
      "cell_type": "code",
      "source": [
        "def test_get_days_df_sunday():\n",
        "  tic = \"GOOG\"\n",
        "  days = 5\n",
        "  end_date = get_last_sunday()\n",
        "  df_days = get_days_df(tic, n_days=days, end_date=end_date, interval=\"1d\")\n",
        "\n",
        "  expected = get_last_trading_day(end_date)\n",
        "\n",
        "  assert df_days.shape[0], df_days.shape\n",
        "  assert df_days.index[-1].date() == expected.date(),(\n",
        "      '\\n'\n",
        "      f\"last index\\t= {df_days.index[-1]}\\n\"\n",
        "      f\"expected\\t= {expected}\"\n",
        "  )\n",
        "\n"
      ],
      "metadata": {
        "id": "TP2e-tuov7pM"
      },
      "execution_count": null,
      "outputs": []
    },
    {
      "cell_type": "code",
      "source": [
        "test_get_days_df_sunday()\n",
        "\n"
      ],
      "metadata": {
        "id": "dEzsjflMyqaK"
      },
      "execution_count": null,
      "outputs": []
    },
    {
      "cell_type": "markdown",
      "source": [
        "Test minute data getter functions\n",
        "\n"
      ],
      "metadata": {
        "id": "GVQBVklSAWMF"
      }
    },
    {
      "cell_type": "code",
      "source": [
        "def test_get_minutes_df__today():\n",
        "  tic = \"GOOG\"\n",
        "  days = 2\n",
        "  end_date = now()\n",
        "  df_minutes = get_minutes_df(tic, n_days=days, end_date=end_date, interval=\"5m\")\n",
        "\n",
        "  assert pd.Timedelta(20, 'h') < (df_minutes.index[-1] - df_minutes.index[0]), df_minutes\n",
        "\n"
      ],
      "metadata": {
        "id": "BtkHwUi_AWMF"
      },
      "execution_count": null,
      "outputs": []
    },
    {
      "cell_type": "code",
      "source": [
        "test_get_minutes_df__today()\n",
        "\n"
      ],
      "metadata": {
        "id": "5TK_vZvFAWMG"
      },
      "execution_count": null,
      "outputs": []
    },
    {
      "cell_type": "code",
      "source": [
        "def get_prev_index(df:pd.DataFrame):\n",
        "  \"\"\"\n",
        "  Get indices before the second last day market close\n",
        "  \"\"\"\n",
        "\n",
        "  fin = df.index[-1]\n",
        "  fin_begin = get_nyse_time(fin, hour=0, minute=0)\n",
        "\n",
        "  prev = df.index < fin_begin\n",
        "\n",
        "  return df.index[prev]\n",
        "\n"
      ],
      "metadata": {
        "id": "BDgGfzh5fKP0"
      },
      "execution_count": null,
      "outputs": []
    },
    {
      "cell_type": "code",
      "source": [
        "def get_last_day_df(df:pd.DataFrame):\n",
        "  index_prev = get_prev_index(df)\n",
        "  return df.drop(index_prev)\n",
        "\n"
      ],
      "metadata": {
        "id": "N67U3EZ5lDU1"
      },
      "execution_count": null,
      "outputs": []
    },
    {
      "cell_type": "markdown",
      "source": [
        "## Percentage-calculator\n",
        "\n"
      ],
      "metadata": {
        "id": "QG4Fx3diiJgr"
      }
    },
    {
      "cell_type": "code",
      "source": [
        "def calc_pct(tic:str):\n",
        "  df_minutes = get_minutes_df(tic)\n",
        "  assert df_minutes.shape[0], df_minutes.shape\n",
        "\n",
        "  index_prev = get_prev_index(df_minutes)\n",
        "\n",
        "  previous_close = df_minutes.at[index_prev[-1], \"Close\"]\n",
        "\n",
        "  df_current_date = get_last_day_df(df_minutes)\n",
        "\n",
        "  ser_current_date = df_current_date[\"Close\"]\n",
        "  assert index_prev[-1] < ser_current_date.index[0]\n",
        "\n",
        "  return ser_current_date.mul(100.0 / previous_close) - 100.0\n",
        "\n"
      ],
      "metadata": {
        "id": "M9O-OXzmOR-O"
      },
      "execution_count": null,
      "outputs": []
    },
    {
      "cell_type": "code",
      "source": [
        "def ave_pct(tickers:Tuple[str]=tickers):\n",
        "\n",
        "  df_pct = pd.DataFrame(\n",
        "      {tic:calc_pct(tic) for tic in tickers},\n",
        "      columns=tickers\n",
        "  )\n",
        "\n",
        "  result = df_pct.mean(axis=1)\n",
        "\n",
        "  return result, df_pct\n",
        "\n"
      ],
      "metadata": {
        "id": "5RUvJEJDiOSc"
      },
      "execution_count": null,
      "outputs": []
    },
    {
      "cell_type": "markdown",
      "source": [
        "## Chart-plotter\n",
        "\n"
      ],
      "metadata": {
        "id": "rIqIDenhIPFT"
      }
    },
    {
      "cell_type": "code",
      "source": [
        "def get_close_upper_lower(close:pd.Series) -> Tuple[float]:\n",
        "  \"\"\"\n",
        "  Estimate lower & upper limits from close prices\n",
        "  \"\"\"\n",
        "  close_max = close.max()\n",
        "  close_min = close.min()\n",
        "\n",
        "  delta_close = close_max - close_min\n",
        "\n",
        "  close_lower = close_min - delta_close * 0.1\n",
        "  close_upper = close_max + delta_close * 0.1\n",
        "\n",
        "  return close_lower, close_upper\n"
      ],
      "metadata": {
        "id": "QxuE2eLyEBMH"
      },
      "execution_count": null,
      "outputs": []
    },
    {
      "cell_type": "code",
      "source": [
        "def get_milder_ylim(ax:plt.Axes, ser_close:pd.Series,) -> Tuple[float]:\n",
        "  \"\"\"\n",
        "  Find milder y limits\n",
        "  \"\"\"\n",
        "  close_lower, close_upper = get_close_upper_lower(ser_close)\n",
        "\n",
        "  ylim = ax.get_ylim()\n",
        "\n",
        "  return (\n",
        "      max(ylim[0], close_lower),\n",
        "      min(ylim[1], close_upper),\n",
        "  )\n",
        "\n"
      ],
      "metadata": {
        "id": "R08TExoT3xtT"
      },
      "execution_count": null,
      "outputs": []
    },
    {
      "cell_type": "code",
      "source": [
        "def plot_candlestick(df:pd.DataFrame, ax=None):\n",
        "  \"\"\"\n",
        "  Candle stick chart of a given dataframe\n",
        "  \"\"\"\n",
        "  if ax is None:\n",
        "    fig, ax = plt.subplots(figsize=(16, 9))\n",
        "\n",
        "  fplt.plot(\n",
        "      df,\n",
        "      type='candle',\n",
        "      style='charles',\n",
        "      ylabel='Price ($)',\n",
        "      ax=ax,\n",
        "      datetime_format=\"%y/%m/%d %H:%M\"\n",
        "  );\n",
        "\n",
        "  ax.set_ylim(get_milder_ylim(ax, df[\"Close\"]))\n",
        "\n",
        "  ax.grid(True)\n",
        "  \n",
        "  return ax\n",
        "\n"
      ],
      "metadata": {
        "id": "no7vnkviIH3n"
      },
      "execution_count": null,
      "outputs": []
    },
    {
      "cell_type": "code",
      "source": [
        "def plot_candle_pct(tic, figsize:Tuple[int]=(24,10)):\n",
        "  \"\"\"\n",
        "  Plot candlestick and TopTic indicator\n",
        "  \"\"\"\n",
        "  fig, ax = plt.subplots(2, 1, figsize=figsize)\n",
        "  # fig.subplots_adjust(hspace=0)\n",
        "\n",
        "  df_minutes = get_minutes_df(tic, )\n",
        "\n",
        "  fig.suptitle(f\"{tic} {df_minutes.index[-1].date()}\")\n",
        "\n",
        "  df_today = get_last_day_df(df_minutes)\n",
        "\n",
        "  plot_candlestick(\n",
        "      df_today,\n",
        "      ax=ax[0]\n",
        "  )\n",
        "\n",
        "  xlim = ax[0].get_xlim()\n",
        "  xticks = ax[0].get_xticks()\n",
        "  xticklabels = ax[0].get_xticklabels()\n",
        "  # xmajorticklabels = ax[0].get_xmajorticklabels()\n",
        "\n",
        "  s_ave, df_pct = ave_pct()\n",
        "  s_ave.plot.bar(\n",
        "      ax=ax[1], grid=True, ylabel=\"%\",\n",
        "      xticks=xticks,\n",
        "  )\n",
        "  ax[1].set_xticklabels(xticklabels)\n",
        "  ax[1].set_xlim(xlim);\n",
        "\n",
        "  last_date = df_minutes.index[-1].date()\n",
        "\n",
        "  print(df_pct.tail())\n",
        "\n",
        "  return ax\n",
        "\n"
      ],
      "metadata": {
        "id": "nF6ey1aujsQZ"
      },
      "execution_count": null,
      "outputs": []
    },
    {
      "cell_type": "markdown",
      "source": [
        "## Runing the code\n",
        "\n"
      ],
      "metadata": {
        "id": "Lo6kO12S-NOa"
      }
    },
    {
      "cell_type": "code",
      "source": [
        "plot_candle_pct(\"SPY\")\n",
        "plt.savefig(\"tictop.png\", dpi=300)\n",
        "\n"
      ],
      "metadata": {
        "id": "L8a7xloW-0ch"
      },
      "execution_count": null,
      "outputs": []
    },
    {
      "cell_type": "code",
      "source": [
        ""
      ],
      "metadata": {
        "id": "v4nCviQ4cxGo"
      },
      "execution_count": null,
      "outputs": []
    }
  ]
}